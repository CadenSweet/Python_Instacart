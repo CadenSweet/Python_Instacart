{
 "cells": [
  {
   "cell_type": "markdown",
   "id": "f867cfb3",
   "metadata": {},
   "source": [
    "# Question 1 - Importing Data Set"
   ]
  },
  {
   "cell_type": "code",
   "execution_count": 1,
   "id": "13d32321",
   "metadata": {},
   "outputs": [],
   "source": [
    "# Importing libraries\n",
    "\n",
    "import pandas as pd\n",
    "import numpy as np\n",
    "import os\n",
    "import matplotlib.pyplot as plt\n",
    "import seaborn as sns\n",
    "import scipy"
   ]
  },
  {
   "cell_type": "code",
   "execution_count": 2,
   "id": "ec56f7e9",
   "metadata": {},
   "outputs": [],
   "source": [
    "# Creating Path\n",
    "\n",
    "path = r\"C:\\Users\\caden\\OneDrive\\Desktop\\Instacart Basket Analysis 06.22.2022\""
   ]
  },
  {
   "cell_type": "code",
   "execution_count": 3,
   "id": "d3e7e832",
   "metadata": {},
   "outputs": [],
   "source": [
    "# Importing data set\n",
    "\n",
    "df = pd.read_pickle(os.path.join(path, '02. Data', 'Prepared Data', 'df_use_this_one.pkl'))"
   ]
  },
  {
   "cell_type": "markdown",
   "id": "6d48a382",
   "metadata": {},
   "source": [
    "# Question 2 - Security Implications"
   ]
  },
  {
   "cell_type": "code",
   "execution_count": 4,
   "id": "1a705ec2",
   "metadata": {},
   "outputs": [
    {
     "data": {
      "text/plain": [
       "Index(['order_id', 'user_id', 'order_number', 'order_day_of_week',\n",
       "       'order_hour_of_day', 'days_since_prior_order', 'product_id',\n",
       "       'add_to_cart_order', 'reordered', 'product_name', 'aisle_id',\n",
       "       'department_id', 'prices', '_merge', 'busiest_day', 'busiest_days',\n",
       "       'busiest_period_of_day', 'max_order', 'loyalty_flag', 'spending',\n",
       "       'spending_flag', 'order_frequency', 'order_frequency_flag',\n",
       "       'first_name', 'last_name', 'gender', 'state', 'age', 'date_joined',\n",
       "       'number_of_dependants', 'marital_status', 'income'],\n",
       "      dtype='object')"
      ]
     },
     "execution_count": 4,
     "metadata": {},
     "output_type": "execute_result"
    }
   ],
   "source": [
    "df.columns"
   ]
  },
  {
   "cell_type": "code",
   "execution_count": 5,
   "id": "f9d6b043",
   "metadata": {},
   "outputs": [],
   "source": [
    "# Dropping columns with first and last names due to PII\n",
    "\n",
    "df = df.drop(columns = ['first_name', 'last_name'])"
   ]
  },
  {
   "cell_type": "code",
   "execution_count": 6,
   "id": "948533e3",
   "metadata": {},
   "outputs": [
    {
     "data": {
      "text/plain": [
       "Index(['order_id', 'user_id', 'order_number', 'order_day_of_week',\n",
       "       'order_hour_of_day', 'days_since_prior_order', 'product_id',\n",
       "       'add_to_cart_order', 'reordered', 'product_name', 'aisle_id',\n",
       "       'department_id', 'prices', '_merge', 'busiest_day', 'busiest_days',\n",
       "       'busiest_period_of_day', 'max_order', 'loyalty_flag', 'spending',\n",
       "       'spending_flag', 'order_frequency', 'order_frequency_flag', 'gender',\n",
       "       'state', 'age', 'date_joined', 'number_of_dependants', 'marital_status',\n",
       "       'income'],\n",
       "      dtype='object')"
      ]
     },
     "execution_count": 6,
     "metadata": {},
     "output_type": "execute_result"
    }
   ],
   "source": [
    "# Check\n",
    "\n",
    "df.columns"
   ]
  },
  {
   "cell_type": "markdown",
   "id": "74a0d079",
   "metadata": {},
   "source": [
    "# Question 3 - Customer Behavior in Geographic Regions"
   ]
  },
  {
   "cell_type": "code",
   "execution_count": 7,
   "id": "0c0a29cb",
   "metadata": {},
   "outputs": [],
   "source": [
    "# Defining regions\n",
    "\n",
    "Northeast=['Maine','New Hampshire','Vermont','Massachusetts','Rhode Island','Connecticut','New York','Pennsylvania','New Jersey']"
   ]
  },
  {
   "cell_type": "code",
   "execution_count": 8,
   "id": "cf050504",
   "metadata": {},
   "outputs": [],
   "source": [
    "Midwest=['Wisconsin','Michigan','Illinois','Indiana','Ohio','North Dakota','South Dakota','Nebraska','Kansas','Minnesota','Iowa','Missouri']"
   ]
  },
  {
   "cell_type": "code",
   "execution_count": 9,
   "id": "18e8a558",
   "metadata": {},
   "outputs": [],
   "source": [
    "South=['Delaware','Maryland','District of Columbia','Virginia','West Virginia','North Carolina','South Carolina','Georgia','Florida','Kentucky','Tennessee','Mississippi','Alabama','Oklahoma','Texas','Arkansas','Louisiana']"
   ]
  },
  {
   "cell_type": "code",
   "execution_count": 10,
   "id": "f9eb53aa",
   "metadata": {},
   "outputs": [],
   "source": [
    "West=['Idaho','Montana','Wyoming','Nevada','Utah','Colorado','Arizona','New Mexico','Alaska','Washington','Oregon','California','Hawaii']"
   ]
  },
  {
   "cell_type": "code",
   "execution_count": 11,
   "id": "343decc2",
   "metadata": {},
   "outputs": [],
   "source": [
    "# Creating loop for region column\n",
    "\n",
    "result=[]\n",
    "\n",
    "for state in df['state']:\n",
    "    if state in Northeast:\n",
    "        result.append('Northeast')\n",
    "    elif state in Midwest:\n",
    "        result.append('Midwest')\n",
    "    elif state in South:\n",
    "        result.append('South')\n",
    "    else:\n",
    "        result.append('West')"
   ]
  },
  {
   "cell_type": "code",
   "execution_count": 12,
   "id": "2941223e",
   "metadata": {},
   "outputs": [],
   "source": [
    "# Adding column to data set\n",
    "\n",
    "df['region']=result"
   ]
  },
  {
   "cell_type": "code",
   "execution_count": 14,
   "id": "d470cdb7",
   "metadata": {},
   "outputs": [
    {
     "data": {
      "text/plain": [
       "South        10791885\n",
       "West          8292913\n",
       "Midwest       7597325\n",
       "Northeast     5722736\n",
       "Name: region, dtype: int64"
      ]
     },
     "execution_count": 14,
     "metadata": {},
     "output_type": "execute_result"
    }
   ],
   "source": [
    "# Check region value counts\n",
    "\n",
    "df['region'].value_counts(dropna = False)"
   ]
  },
  {
   "cell_type": "code",
   "execution_count": 15,
   "id": "a7f401a1",
   "metadata": {},
   "outputs": [],
   "source": [
    "# Create crosstab for regional spending\n",
    "\n",
    "regional_spending_crosstab = pd.crosstab(df['region'], df['spending_flag'], dropna = False)"
   ]
  },
  {
   "cell_type": "code",
   "execution_count": 16,
   "id": "da0e372f",
   "metadata": {},
   "outputs": [
    {
     "data": {
      "text/html": [
       "<div>\n",
       "<style scoped>\n",
       "    .dataframe tbody tr th:only-of-type {\n",
       "        vertical-align: middle;\n",
       "    }\n",
       "\n",
       "    .dataframe tbody tr th {\n",
       "        vertical-align: top;\n",
       "    }\n",
       "\n",
       "    .dataframe thead th {\n",
       "        text-align: right;\n",
       "    }\n",
       "</style>\n",
       "<table border=\"1\" class=\"dataframe\">\n",
       "  <thead>\n",
       "    <tr style=\"text-align: right;\">\n",
       "      <th>spending_flag</th>\n",
       "      <th>High spender</th>\n",
       "      <th>Low spender</th>\n",
       "    </tr>\n",
       "    <tr>\n",
       "      <th>region</th>\n",
       "      <th></th>\n",
       "      <th></th>\n",
       "    </tr>\n",
       "  </thead>\n",
       "  <tbody>\n",
       "    <tr>\n",
       "      <th>Midwest</th>\n",
       "      <td>155975</td>\n",
       "      <td>7441350</td>\n",
       "    </tr>\n",
       "    <tr>\n",
       "      <th>Northeast</th>\n",
       "      <td>108225</td>\n",
       "      <td>5614511</td>\n",
       "    </tr>\n",
       "    <tr>\n",
       "      <th>South</th>\n",
       "      <td>209691</td>\n",
       "      <td>10582194</td>\n",
       "    </tr>\n",
       "    <tr>\n",
       "      <th>West</th>\n",
       "      <td>160354</td>\n",
       "      <td>8132559</td>\n",
       "    </tr>\n",
       "  </tbody>\n",
       "</table>\n",
       "</div>"
      ],
      "text/plain": [
       "spending_flag  High spender  Low spender\n",
       "region                                  \n",
       "Midwest              155975      7441350\n",
       "Northeast            108225      5614511\n",
       "South                209691     10582194\n",
       "West                 160354      8132559"
      ]
     },
     "execution_count": 16,
     "metadata": {},
     "output_type": "execute_result"
    }
   ],
   "source": [
    "regional_spending_crosstab"
   ]
  },
  {
   "cell_type": "code",
   "execution_count": 18,
   "id": "4c6a11b9",
   "metadata": {},
   "outputs": [],
   "source": [
    "# Creating percentage for spending\n",
    "\n",
    "Midwest_high_spenders = (155975 / (155975+7441350)) * 100\n",
    "Northeast_high_spenders = (108225 / (108225+5614511)) * 100\n",
    "South_high_spenders = (209691 / (209691+10582194)) * 100\n",
    "West_high_spenders = (160354 / (160354+8132559)) * 100"
   ]
  },
  {
   "cell_type": "code",
   "execution_count": 19,
   "id": "a834794d",
   "metadata": {},
   "outputs": [
    {
     "data": {
      "text/plain": [
       "2.053025242437305"
      ]
     },
     "execution_count": 19,
     "metadata": {},
     "output_type": "execute_result"
    }
   ],
   "source": [
    "Midwest_high_spenders"
   ]
  },
  {
   "cell_type": "code",
   "execution_count": 20,
   "id": "6729315d",
   "metadata": {},
   "outputs": [
    {
     "data": {
      "text/plain": [
       "1.8911408808653762"
      ]
     },
     "execution_count": 20,
     "metadata": {},
     "output_type": "execute_result"
    }
   ],
   "source": [
    "Northeast_high_spenders"
   ]
  },
  {
   "cell_type": "code",
   "execution_count": 21,
   "id": "299a63b3",
   "metadata": {},
   "outputs": [
    {
     "data": {
      "text/plain": [
       "1.9430433144904713"
      ]
     },
     "execution_count": 21,
     "metadata": {},
     "output_type": "execute_result"
    }
   ],
   "source": [
    "South_high_spenders"
   ]
  },
  {
   "cell_type": "code",
   "execution_count": 22,
   "id": "9eb27d58",
   "metadata": {},
   "outputs": [
    {
     "data": {
      "text/plain": [
       "1.9336269414619447"
      ]
     },
     "execution_count": 22,
     "metadata": {},
     "output_type": "execute_result"
    }
   ],
   "source": [
    "West_high_spenders"
   ]
  },
  {
   "cell_type": "code",
   "execution_count": 25,
   "id": "a815d44e",
   "metadata": {},
   "outputs": [
    {
     "data": {
      "image/png": "[encoded data removed]",
      "text/plain": [
       "<Figure size 432x288 with 1 Axes>"
      ]
     },
     "metadata": {
      "needs_background": "light"
     },
     "output_type": "display_data"
    }
   ],
   "source": [
    "# Bar chart of spending\n",
    "\n",
    "regional_bar = df['region'].value_counts().plot.bar(color =['blue'])"
   ]
  },
  {
   "cell_type": "markdown",
   "id": "504031b0",
   "metadata": {},
   "source": [
    "### The South spends the most but the highest percentage of high spenders are located in the Midwest"
   ]
  },
  {
   "cell_type": "code",
   "execution_count": 27,
   "id": "231f7570",
   "metadata": {},
   "outputs": [],
   "source": [
    "# Exporting image\n",
    "\n",
    "regional_bar.figure.savefig(os.path.join(path, '04. Analysis','Visualizations', 'regional_spending_bar.png'))"
   ]
  },
  {
   "cell_type": "markdown",
   "id": "5bff92ea",
   "metadata": {},
   "source": [
    "# Question 4 - Exclusion flag for low-activity customers"
   ]
  },
  {
   "cell_type": "code",
   "execution_count": 28,
   "id": "151e8ff3",
   "metadata": {},
   "outputs": [],
   "source": [
    "# Create low activity flag\n",
    "\n",
    "df.loc[df['max_order'] < 5, 'activity_flag'] = 'Low activity'"
   ]
  },
  {
   "cell_type": "code",
   "execution_count": 29,
   "id": "e1f37ce7",
   "metadata": {},
   "outputs": [],
   "source": [
    "# Create normal activity flag\n",
    "\n",
    "df.loc[df['max_order'] >= 5, 'activity_flag'] = 'Normal activity'"
   ]
  },
  {
   "cell_type": "code",
   "execution_count": 33,
   "id": "a83b72f7",
   "metadata": {},
   "outputs": [
    {
     "data": {
      "text/plain": [
       "Normal activity    30964564\n",
       "Low activity        1440295\n",
       "Name: activity_flag, dtype: int64"
      ]
     },
     "execution_count": 33,
     "metadata": {},
     "output_type": "execute_result"
    }
   ],
   "source": [
    "# Check the count of activity flag\n",
    "\n",
    "df['activity_flag'].value_counts(dropna = False)"
   ]
  },
  {
   "cell_type": "code",
   "execution_count": 34,
   "id": "de394d38",
   "metadata": {},
   "outputs": [],
   "source": [
    "# Create low-activity subset\n",
    "\n",
    "df_low_activity = df[df['activity_flag']=='Low activity']"
   ]
  },
  {
   "cell_type": "code",
   "execution_count": 35,
   "id": "76ba7068",
   "metadata": {},
   "outputs": [
    {
     "data": {
      "text/plain": [
       "(1440295, 32)"
      ]
     },
     "execution_count": 35,
     "metadata": {},
     "output_type": "execute_result"
    }
   ],
   "source": [
    "# Check to ensure values match\n",
    "\n",
    "df_low_activity.shape"
   ]
  },
  {
   "cell_type": "code",
   "execution_count": 36,
   "id": "05f45df4",
   "metadata": {},
   "outputs": [],
   "source": [
    "# Create normal-activity subset\n",
    "\n",
    "df_normal_activity = df[df['activity_flag']=='Normal activity']"
   ]
  },
  {
   "cell_type": "code",
   "execution_count": 37,
   "id": "67e33fd7",
   "metadata": {},
   "outputs": [
    {
     "data": {
      "text/plain": [
       "(30964564, 32)"
      ]
     },
     "execution_count": 37,
     "metadata": {},
     "output_type": "execute_result"
    }
   ],
   "source": [
    "# Check\n",
    "\n",
    "df_normal_activity.shape"
   ]
  },
  {
   "cell_type": "code",
   "execution_count": 38,
   "id": "ea762e37",
   "metadata": {},
   "outputs": [],
   "source": [
    "# Export low activity subset\n",
    "\n",
    "df_low_activity.to_pickle(os.path.join(path,'02. Data','Prepared Data','low_activity_customers.pkl'))"
   ]
  },
  {
   "cell_type": "markdown",
   "id": "8d586edb",
   "metadata": {},
   "source": [
    "# Question 5 - Customer Profiling"
   ]
  },
  {
   "cell_type": "markdown",
   "id": "bcde98cc",
   "metadata": {},
   "source": [
    "### Age\n"
   ]
  },
  {
   "cell_type": "code",
   "execution_count": 39,
   "id": "5db325b5",
   "metadata": {},
   "outputs": [
    {
     "data": {
      "text/plain": [
       "18    478457\n",
       "19    496077\n",
       "20    480194\n",
       "21    489116\n",
       "22    490811\n",
       "       ...  \n",
       "77    477999\n",
       "78    471119\n",
       "79    508337\n",
       "80    492750\n",
       "81    485847\n",
       "Name: age, Length: 64, dtype: int64"
      ]
     },
     "execution_count": 39,
     "metadata": {},
     "output_type": "execute_result"
    }
   ],
   "source": [
    "# Age values\n",
    "\n",
    "df_normal_activity['age'].value_counts().sort_index()"
   ]
  },
  {
   "cell_type": "code",
   "execution_count": 44,
   "id": "86c68887",
   "metadata": {},
   "outputs": [],
   "source": [
    "# Creating loop for age column\n",
    "\n",
    "age_profile = []\n",
    "\n",
    "for value in df_normal_activity['age']:\n",
    "    if (value >= 18) and (value <= 24):\n",
    "        age_profile.append('Young Adult')\n",
    "    elif (value >= 25) and (value <= 64):\n",
    "        age_profile.append('Adult')\n",
    "    elif (value >= 65):\n",
    "        age_profile.append('Senior')"
   ]
  },
  {
   "cell_type": "code",
   "execution_count": 45,
   "id": "d0b3ee0b",
   "metadata": {},
   "outputs": [
    {
     "name": "stderr",
     "output_type": "stream",
     "text": [
      "C:\\Users\\caden\\AppData\\Local\\Temp\\ipykernel_14420\\4063005250.py:3: SettingWithCopyWarning: \n",
      "A value is trying to be set on a copy of a slice from a DataFrame.\n",
      "Try using .loc[row_indexer,col_indexer] = value instead\n",
      "\n",
      "See the caveats in the documentation: https://pandas.pydata.org/pandas-docs/stable/user_guide/indexing.html#returning-a-view-versus-a-copy\n",
      "  df_normal_activity['age_profile'] = age_profile\n"
     ]
    }
   ],
   "source": [
    "# Create column for age_profile\n",
    "\n",
    "df_normal_activity['age_profile'] = age_profile"
   ]
  },
  {
   "cell_type": "code",
   "execution_count": 47,
   "id": "b49ff689",
   "metadata": {},
   "outputs": [
    {
     "data": {
      "text/plain": [
       "Adult          19353826\n",
       "Senior          8195544\n",
       "Young Adult     3415194\n",
       "Name: age_profile, dtype: int64"
      ]
     },
     "execution_count": 47,
     "metadata": {},
     "output_type": "execute_result"
    }
   ],
   "source": [
    "# Check age_profile values\n",
    "\n",
    "df_normal_activity['age_profile'].value_counts().sort_index()"
   ]
  },
  {
   "cell_type": "markdown",
   "id": "7d69e7c5",
   "metadata": {},
   "source": [
    "### Income"
   ]
  },
  {
   "cell_type": "code",
   "execution_count": 48,
   "id": "96f18630",
   "metadata": {},
   "outputs": [
    {
     "data": {
      "text/plain": [
       "25903      20\n",
       "25911      28\n",
       "25937      39\n",
       "25941      31\n",
       "25955     392\n",
       "         ... \n",
       "584097    826\n",
       "590790     54\n",
       "591089    176\n",
       "592409    318\n",
       "593901    640\n",
       "Name: income, Length: 96069, dtype: int64"
      ]
     },
     "execution_count": 48,
     "metadata": {},
     "output_type": "execute_result"
    }
   ],
   "source": [
    "# Check income values\n",
    "\n",
    "df_normal_activity['income'].value_counts().sort_index()"
   ]
  },
  {
   "cell_type": "markdown",
   "id": "7356e1c9",
   "metadata": {},
   "source": [
    "### Source to define income groups: https://money.usnews.com/money/personal-finance/family-finance/articles/where-do-i-fall-in-the-american-economic-class-system"
   ]
  },
  {
   "cell_type": "code",
   "execution_count": 49,
   "id": "b5fc0a28",
   "metadata": {},
   "outputs": [],
   "source": [
    "# Creating loop for income column, groups based off of a household size of 3\n",
    "\n",
    "income_profile = []\n",
    "\n",
    "for value in df_normal_activity['income']:\n",
    "    if (value < 52200):\n",
    "        income_profile.append('Lower income')\n",
    "    elif (value >= 52200) & (value < 156600):\n",
    "        income_profile.append('Middle income')\n",
    "    else:\n",
    "        income_profile.append('Upper income')"
   ]
  },
  {
   "cell_type": "code",
   "execution_count": 50,
   "id": "d58b7c82",
   "metadata": {},
   "outputs": [
    {
     "name": "stderr",
     "output_type": "stream",
     "text": [
      "C:\\Users\\caden\\AppData\\Local\\Temp\\ipykernel_14420\\4043511981.py:3: SettingWithCopyWarning: \n",
      "A value is trying to be set on a copy of a slice from a DataFrame.\n",
      "Try using .loc[row_indexer,col_indexer] = value instead\n",
      "\n",
      "See the caveats in the documentation: https://pandas.pydata.org/pandas-docs/stable/user_guide/indexing.html#returning-a-view-versus-a-copy\n",
      "  df_normal_activity['income_profile'] = income_profile\n"
     ]
    }
   ],
   "source": [
    "# Create column for income_profile\n",
    "\n",
    "df_normal_activity['income_profile'] = income_profile"
   ]
  },
  {
   "cell_type": "code",
   "execution_count": 51,
   "id": "6c86d37c",
   "metadata": {},
   "outputs": [
    {
     "data": {
      "text/plain": [
       "Lower income      3691708\n",
       "Middle income    24541333\n",
       "Upper income      2731523\n",
       "Name: income_profile, dtype: int64"
      ]
     },
     "execution_count": 51,
     "metadata": {},
     "output_type": "execute_result"
    }
   ],
   "source": [
    "# Check income_profile values\n",
    "\n",
    "df_normal_activity['income_profile'].value_counts().sort_index()"
   ]
  },
  {
   "cell_type": "markdown",
   "id": "31a68ae4",
   "metadata": {},
   "source": [
    "### Goods"
   ]
  },
  {
   "cell_type": "code",
   "execution_count": 54,
   "id": "aa92cc6d",
   "metadata": {},
   "outputs": [],
   "source": [
    "# Create loop for \"goods\" using dept_id\n",
    "\n",
    "goods_profile = []\n",
    "\n",
    "for value in df_normal_activity['department_id']:\n",
    "    if value == 1:\n",
    "        goods_profile.append('Frozen')\n",
    "    elif value == 2:\n",
    "        goods_profile.append('Other')\n",
    "    elif value == 3:\n",
    "        goods_profile.append('Bakery')\n",
    "    elif value == 4:\n",
    "        goods_profile.append('Produce')\n",
    "    elif value == 5:\n",
    "        goods_profile.append('Alcohol')\n",
    "    elif value == 6:\n",
    "        goods_profile.append('International')\n",
    "    elif value == 7:\n",
    "        goods_profile.append('Beverages')\n",
    "    elif value == 8:\n",
    "        goods_profile.append('Pets')\n",
    "    elif value == 9:\n",
    "        goods_profile.append('Dry goods pasta')\n",
    "    elif value == 10:\n",
    "        goods_profile.append('Bulk')\n",
    "    elif value == 11:\n",
    "        goods_profile.append('Personal care')\n",
    "    elif value == 12:\n",
    "        goods_profile.append('Meat seafood')\n",
    "    elif value == 13:\n",
    "        goods_profile.append('Pantry')\n",
    "    elif value == 14:\n",
    "        goods_profile.append('Breakfast')\n",
    "    elif value == 15:\n",
    "        goods_profile.append('Canned goods')\n",
    "    elif value == 16:\n",
    "        goods_profile.append('Dairy eggs')\n",
    "    elif value == 17:\n",
    "        goods_profile.append('Household')\n",
    "    elif value == 18:\n",
    "        goods_profile.append('Babies')\n",
    "    elif value == 19:\n",
    "        goods_profile.append('Snacks')\n",
    "    elif value == 20:\n",
    "        goods_profile.append('Deli')\n",
    "    elif value == 21:\n",
    "        goods_profile.append('Missing')"
   ]
  },
  {
   "cell_type": "code",
   "execution_count": 55,
   "id": "45bcc1a7",
   "metadata": {},
   "outputs": [
    {
     "name": "stderr",
     "output_type": "stream",
     "text": [
      "C:\\Users\\caden\\AppData\\Local\\Temp\\ipykernel_14420\\1614328652.py:3: SettingWithCopyWarning: \n",
      "A value is trying to be set on a copy of a slice from a DataFrame.\n",
      "Try using .loc[row_indexer,col_indexer] = value instead\n",
      "\n",
      "See the caveats in the documentation: https://pandas.pydata.org/pandas-docs/stable/user_guide/indexing.html#returning-a-view-versus-a-copy\n",
      "  df_normal_activity['goods_profile'] = goods_profile\n"
     ]
    }
   ],
   "source": [
    "# Create column for goods\n",
    "\n",
    "df_normal_activity['goods_profile'] = goods_profile"
   ]
  },
  {
   "cell_type": "code",
   "execution_count": 57,
   "id": "0220c878",
   "metadata": {},
   "outputs": [
    {
     "data": {
      "text/plain": [
       "Alcohol             144627\n",
       "Babies              410392\n",
       "Bakery             1120828\n",
       "Beverages          2571901\n",
       "Breakfast           670850\n",
       "Bulk                 33451\n",
       "Canned goods       1012074\n",
       "Dairy eggs         5177182\n",
       "Deli               1003834\n",
       "Dry goods pasta     822136\n",
       "Frozen             2121731\n",
       "Household           699857\n",
       "International       255991\n",
       "Meat seafood        674781\n",
       "Missing              64768\n",
       "Other                34411\n",
       "Pantry             1782705\n",
       "Personal care       424306\n",
       "Pets                 93060\n",
       "Produce            9079273\n",
       "Snacks             2766406\n",
       "Name: goods_profile, dtype: int64"
      ]
     },
     "execution_count": 57,
     "metadata": {},
     "output_type": "execute_result"
    }
   ],
   "source": [
    "# Check goods_profile values\n",
    "\n",
    "df_normal_activity['goods_profile'].value_counts().sort_index()"
   ]
  },
  {
   "cell_type": "markdown",
   "id": "468e2325",
   "metadata": {},
   "source": [
    "### Dependants"
   ]
  },
  {
   "cell_type": "code",
   "execution_count": 59,
   "id": "46f9fe51",
   "metadata": {},
   "outputs": [
    {
     "data": {
      "text/plain": [
       "0    7739681\n",
       "1    7719106\n",
       "2    7733261\n",
       "3    7772516\n",
       "Name: number_of_dependants, dtype: int64"
      ]
     },
     "execution_count": 59,
     "metadata": {},
     "output_type": "execute_result"
    }
   ],
   "source": [
    "# Check dependants\n",
    "\n",
    "df_normal_activity['number_of_dependants'].value_counts().sort_index()"
   ]
  },
  {
   "cell_type": "code",
   "execution_count": 60,
   "id": "757735a4",
   "metadata": {},
   "outputs": [],
   "source": [
    "# Creating loop for dependants columns\n",
    "\n",
    "dependants_profile = []\n",
    "\n",
    "for value in df_normal_activity['number_of_dependants']:\n",
    "    if (value == 0):\n",
    "        dependants_profile.append('No dependants')\n",
    "    else:\n",
    "        dependants_profile.append('Dependants')"
   ]
  },
  {
   "cell_type": "code",
   "execution_count": 62,
   "id": "9f96fa16",
   "metadata": {},
   "outputs": [
    {
     "name": "stderr",
     "output_type": "stream",
     "text": [
      "C:\\Users\\caden\\AppData\\Local\\Temp\\ipykernel_14420\\1735883293.py:3: SettingWithCopyWarning: \n",
      "A value is trying to be set on a copy of a slice from a DataFrame.\n",
      "Try using .loc[row_indexer,col_indexer] = value instead\n",
      "\n",
      "See the caveats in the documentation: https://pandas.pydata.org/pandas-docs/stable/user_guide/indexing.html#returning-a-view-versus-a-copy\n",
      "  df_normal_activity['dependants_profile'] = dependants_profile\n"
     ]
    }
   ],
   "source": [
    "# Assign dependants profile to column\n",
    "\n",
    "df_normal_activity['dependants_profile'] = dependants_profile"
   ]
  },
  {
   "cell_type": "code",
   "execution_count": 63,
   "id": "f88b62a0",
   "metadata": {},
   "outputs": [
    {
     "data": {
      "text/plain": [
       "Dependants       23224883\n",
       "No dependants     7739681\n",
       "Name: dependants_profile, dtype: int64"
      ]
     },
     "execution_count": 63,
     "metadata": {},
     "output_type": "execute_result"
    }
   ],
   "source": [
    "# Check dependants profile\n",
    "\n",
    "df_normal_activity['dependants_profile'].value_counts().sort_index()"
   ]
  },
  {
   "cell_type": "markdown",
   "id": "56ce4937",
   "metadata": {},
   "source": [
    "### Creating profiles based off of age, income, and # of dependants"
   ]
  },
  {
   "cell_type": "code",
   "execution_count": 64,
   "id": "f2f92817",
   "metadata": {},
   "outputs": [
    {
     "name": "stderr",
     "output_type": "stream",
     "text": [
      "C:\\Users\\caden\\AppData\\Local\\Temp\\ipykernel_14420\\3991481876.py:3: SettingWithCopyWarning: \n",
      "A value is trying to be set on a copy of a slice from a DataFrame.\n",
      "Try using .loc[row_indexer,col_indexer] = value instead\n",
      "\n",
      "See the caveats in the documentation: https://pandas.pydata.org/pandas-docs/stable/user_guide/indexing.html#returning-a-view-versus-a-copy\n",
      "  df_normal_activity.loc[(df_normal_activity['age_profile'] == 'Young Adult') & (df_normal_activity['income_profile'] == 'Lower income') & (df_normal_activity['dependants_profile'] == 'Dependants'), 'customer_profile'] = 'Young Parent/Guardian lower income'\n"
     ]
    }
   ],
   "source": [
    "# Creating customer profiles\n",
    "\n",
    "df_normal_activity.loc[(df_normal_activity['age_profile'] == 'Young Adult') & (df_normal_activity['income_profile'] == 'Lower income') & (df_normal_activity['dependants_profile'] == 'Dependants'), 'customer_profile'] = 'Young Parent/Guardian lower income'\n",
    "df_normal_activity.loc[(df_normal_activity['age_profile'] == 'Young Adult') & (df_normal_activity['income_profile'] == 'Middle income') & (df_normal_activity['dependants_profile'] == 'Dependants'), 'customer_profile'] = 'Young Parent/Guardian middle income'\n",
    "df_normal_activity.loc[(df_normal_activity['age_profile'] == 'Young Adult') & (df_normal_activity['income_profile'] == 'Upper income') & (df_normal_activity['dependants_profile'] == 'Dependants'), 'customer_profile'] = 'Young Parent/Guardian upper income'\n",
    "df_normal_activity.loc[(df_normal_activity['age_profile'] == 'Young Adult') & (df_normal_activity['income_profile'] == 'Lower income') & (df_normal_activity['dependants_profile'] == 'No dependants'), 'customer_profile'] = 'Young Adult lower income'\n",
    "df_normal_activity.loc[(df_normal_activity['age_profile'] == 'Young Adult') & (df_normal_activity['income_profile'] == 'Middle income') & (df_normal_activity['dependants_profile'] == 'No dependants'), 'customer_profile'] = 'Young Adult middle income'\n",
    "df_normal_activity.loc[(df_normal_activity['age_profile'] == 'Young Adult') & (df_normal_activity['income_profile'] == 'Upper income') & (df_normal_activity['dependants_profile'] == 'No dependants'), 'customer_profile'] = 'Young Adult upper income'\n",
    "df_normal_activity.loc[(df_normal_activity['age_profile'] == 'Adult') & (df_normal_activity['income_profile'] == 'Lower income') & (df_normal_activity['dependants_profile'] == 'Dependants'), 'customer_profile'] = 'Parent/Guardian lower income'\n",
    "df_normal_activity.loc[(df_normal_activity['age_profile'] == 'Adult') & (df_normal_activity['income_profile'] == 'Middle income') & (df_normal_activity['dependants_profile'] == 'Dependants'), 'customer_profile'] = 'Parent/Guardian middle income'\n",
    "df_normal_activity.loc[(df_normal_activity['age_profile'] == 'Adult') & (df_normal_activity['income_profile'] == 'Upper income') & (df_normal_activity['dependants_profile'] == 'Dependants'), 'customer_profile'] = 'Parent/Guardian upper income'\n",
    "df_normal_activity.loc[(df_normal_activity['age_profile'] == 'Adult') & (df_normal_activity['income_profile'] == 'Lower income') & (df_normal_activity['dependants_profile'] == 'No dependants'), 'customer_profile'] = 'Adult lower income'\n",
    "df_normal_activity.loc[(df_normal_activity['age_profile'] == 'Adult') & (df_normal_activity['income_profile'] == 'Middle income') & (df_normal_activity['dependants_profile'] == 'No dependants'), 'customer_profile'] = 'Adult middle income'\n",
    "df_normal_activity.loc[(df_normal_activity['age_profile'] == 'Adult') & (df_normal_activity['income_profile'] == 'Upper income') & (df_normal_activity['dependants_profile'] == 'No dependants'), 'customer_profile'] = 'Adult upper income' \n",
    "df_normal_activity.loc[(df_normal_activity['age_profile'] == 'Senior') & (df_normal_activity['income_profile'] == 'Lower income') & (df_normal_activity['dependants_profile'] == 'Dependants'), 'customer_profile'] = 'Senior Parent/Guardian lower income'\n",
    "df_normal_activity.loc[(df_normal_activity['age_profile'] == 'Senior') & (df_normal_activity['income_profile'] == 'Middle income') & (df_normal_activity['dependants_profile'] == 'Dependants'), 'customer_profile'] = 'Senior Parent/Guardian middle income'\n",
    "df_normal_activity.loc[(df_normal_activity['age_profile'] == 'Senior') & (df_normal_activity['income_profile'] == 'Upper income') & (df_normal_activity['dependants_profile'] == 'Dependants'), 'customer_profile'] = 'Senior Parent/Guardian upper income'\n",
    "df_normal_activity.loc[(df_normal_activity['age_profile'] == 'Senior') & (df_normal_activity['income_profile'] == 'Lower income') & (df_normal_activity['dependants_profile'] == 'No dependants'), 'customer_profile'] = 'Senior lower income'\n",
    "df_normal_activity.loc[(df_normal_activity['age_profile'] == 'Senior') & (df_normal_activity['income_profile'] == 'Middle income') & (df_normal_activity['dependants_profile'] == 'No dependants'), 'customer_profile'] = 'Senior middle income'\n",
    "df_normal_activity.loc[(df_normal_activity['age_profile'] == 'Senior') & (df_normal_activity['income_profile'] == 'Upper income') & (df_normal_activity['dependants_profile'] == 'No dependants'), 'customer_profile'] = 'Senior upper income'"
   ]
  },
  {
   "cell_type": "markdown",
   "id": "c20c5b3b",
   "metadata": {},
   "source": [
    "### The goods profile could be used to further create more profiles but I think it's easier to omit it. If someone has a dependant then you can assume they are either a parent or guardian. If you added the goods profile and filtered for babie products you could determine if they have a younger child or older one. Additionally, with more information as to which groups of people buy more of certain products you could determine who is more likely to be single or even who has pets."
   ]
  },
  {
   "cell_type": "code",
   "execution_count": 65,
   "id": "a0ac2527",
   "metadata": {},
   "outputs": [
    {
     "data": {
      "text/plain": [
       "Adult lower income                        609387\n",
       "Adult middle income                      3860037\n",
       "Adult upper income                        422789\n",
       "Parent/Guardian lower income             1760852\n",
       "Parent/Guardian middle income           11495379\n",
       "Parent/Guardian upper income             1205382\n",
       "Senior Parent/Guardian lower income       561981\n",
       "Senior Parent/Guardian middle income     4808014\n",
       "Senior Parent/Guardian upper income       803591\n",
       "Senior lower income                       168973\n",
       "Senior middle income                     1581046\n",
       "Senior upper income                       271939\n",
       "Young Adult lower income                  149405\n",
       "Young Adult middle income                 668546\n",
       "Young Adult upper income                    7559\n",
       "Young Parent/Guardian lower income        441110\n",
       "Young Parent/Guardian middle income      2128311\n",
       "Young Parent/Guardian upper income         20263\n",
       "Name: customer_profile, dtype: int64"
      ]
     },
     "execution_count": 65,
     "metadata": {},
     "output_type": "execute_result"
    }
   ],
   "source": [
    "# Check\n",
    "\n",
    "df_normal_activity['customer_profile'].value_counts().sort_index()"
   ]
  },
  {
   "cell_type": "markdown",
   "id": "cfe07adc",
   "metadata": {},
   "source": [
    "# Question 6 - Visualization"
   ]
  },
  {
   "cell_type": "code",
   "execution_count": 67,
   "id": "95bf9308",
   "metadata": {},
   "outputs": [
    {
     "data": {
      "image/png": "[encoded data removed]",
      "text/plain": [
       "<Figure size 432x288 with 1 Axes>"
      ]
     },
     "metadata": {
      "needs_background": "light"
     },
     "output_type": "display_data"
    }
   ],
   "source": [
    "# Bar chart \n",
    "\n",
    "bar = df_normal_activity['customer_profile'].value_counts().plot.bar(color =['blue'])"
   ]
  },
  {
   "cell_type": "code",
   "execution_count": 68,
   "id": "12a1a55d",
   "metadata": {},
   "outputs": [],
   "source": [
    "# Export visualization\n",
    "\n",
    "bar.figure.savefig(os.path.join(path, '04. Analysis','Visualizations', 'customer_profile_bar.png'))"
   ]
  },
  {
   "cell_type": "markdown",
   "id": "99ff9448",
   "metadata": {},
   "source": [
    "# Question 7 - Max, Mean, Min Variables"
   ]
  },
  {
   "cell_type": "code",
   "execution_count": 70,
   "id": "ff7d6531",
   "metadata": {},
   "outputs": [
    {
     "data": {
      "text/html": [
       "<div>\n",
       "<style scoped>\n",
       "    .dataframe tbody tr th:only-of-type {\n",
       "        vertical-align: middle;\n",
       "    }\n",
       "\n",
       "    .dataframe tbody tr th {\n",
       "        vertical-align: top;\n",
       "    }\n",
       "\n",
       "    .dataframe thead tr th {\n",
       "        text-align: left;\n",
       "    }\n",
       "\n",
       "    .dataframe thead tr:last-of-type th {\n",
       "        text-align: right;\n",
       "    }\n",
       "</style>\n",
       "<table border=\"1\" class=\"dataframe\">\n",
       "  <thead>\n",
       "    <tr>\n",
       "      <th></th>\n",
       "      <th colspan=\"3\" halign=\"left\">spending</th>\n",
       "    </tr>\n",
       "    <tr>\n",
       "      <th></th>\n",
       "      <th>mean</th>\n",
       "      <th>min</th>\n",
       "      <th>max</th>\n",
       "    </tr>\n",
       "    <tr>\n",
       "      <th>customer_profile</th>\n",
       "      <th></th>\n",
       "      <th></th>\n",
       "      <th></th>\n",
       "    </tr>\n",
       "  </thead>\n",
       "  <tbody>\n",
       "    <tr>\n",
       "      <th>Adult lower income</th>\n",
       "      <td>6.794283</td>\n",
       "      <td>1.000000</td>\n",
       "      <td>11.487500</td>\n",
       "    </tr>\n",
       "    <tr>\n",
       "      <th>Adult middle income</th>\n",
       "      <td>9.596381</td>\n",
       "      <td>2.382759</td>\n",
       "      <td>5135.893590</td>\n",
       "    </tr>\n",
       "    <tr>\n",
       "      <th>Adult upper income</th>\n",
       "      <td>40.234907</td>\n",
       "      <td>7.002308</td>\n",
       "      <td>15006.940000</td>\n",
       "    </tr>\n",
       "    <tr>\n",
       "      <th>Parent/Guardian lower income</th>\n",
       "      <td>6.780940</td>\n",
       "      <td>1.000000</td>\n",
       "      <td>12.000000</td>\n",
       "    </tr>\n",
       "    <tr>\n",
       "      <th>Parent/Guardian middle income</th>\n",
       "      <td>9.362381</td>\n",
       "      <td>1.522222</td>\n",
       "      <td>5271.136842</td>\n",
       "    </tr>\n",
       "    <tr>\n",
       "      <th>Parent/Guardian upper income</th>\n",
       "      <td>43.883209</td>\n",
       "      <td>7.000000</td>\n",
       "      <td>6983.593023</td>\n",
       "    </tr>\n",
       "    <tr>\n",
       "      <th>Senior Parent/Guardian lower income</th>\n",
       "      <td>6.507172</td>\n",
       "      <td>1.262500</td>\n",
       "      <td>7.000000</td>\n",
       "    </tr>\n",
       "    <tr>\n",
       "      <th>Senior Parent/Guardian middle income</th>\n",
       "      <td>9.241409</td>\n",
       "      <td>1.300000</td>\n",
       "      <td>2410.696774</td>\n",
       "    </tr>\n",
       "    <tr>\n",
       "      <th>Senior Parent/Guardian upper income</th>\n",
       "      <td>29.854363</td>\n",
       "      <td>7.001093</td>\n",
       "      <td>7414.485185</td>\n",
       "    </tr>\n",
       "    <tr>\n",
       "      <th>Senior lower income</th>\n",
       "      <td>6.509028</td>\n",
       "      <td>1.800000</td>\n",
       "      <td>7.000000</td>\n",
       "    </tr>\n",
       "    <tr>\n",
       "      <th>Senior middle income</th>\n",
       "      <td>9.498193</td>\n",
       "      <td>1.308333</td>\n",
       "      <td>14042.512281</td>\n",
       "    </tr>\n",
       "    <tr>\n",
       "      <th>Senior upper income</th>\n",
       "      <td>30.021251</td>\n",
       "      <td>7.000575</td>\n",
       "      <td>2673.245778</td>\n",
       "    </tr>\n",
       "    <tr>\n",
       "      <th>Young Adult lower income</th>\n",
       "      <td>6.968650</td>\n",
       "      <td>2.100000</td>\n",
       "      <td>13.878571</td>\n",
       "    </tr>\n",
       "    <tr>\n",
       "      <th>Young Adult middle income</th>\n",
       "      <td>13.507942</td>\n",
       "      <td>7.000000</td>\n",
       "      <td>8794.882427</td>\n",
       "    </tr>\n",
       "    <tr>\n",
       "      <th>Young Adult upper income</th>\n",
       "      <td>148.747705</td>\n",
       "      <td>26.759379</td>\n",
       "      <td>2990.717910</td>\n",
       "    </tr>\n",
       "    <tr>\n",
       "      <th>Young Parent/Guardian lower income</th>\n",
       "      <td>7.028856</td>\n",
       "      <td>2.000000</td>\n",
       "      <td>11.783333</td>\n",
       "    </tr>\n",
       "    <tr>\n",
       "      <th>Young Parent/Guardian middle income</th>\n",
       "      <td>10.565561</td>\n",
       "      <td>7.000000</td>\n",
       "      <td>5668.766038</td>\n",
       "    </tr>\n",
       "    <tr>\n",
       "      <th>Young Parent/Guardian upper income</th>\n",
       "      <td>282.162977</td>\n",
       "      <td>25.849554</td>\n",
       "      <td>10209.987755</td>\n",
       "    </tr>\n",
       "  </tbody>\n",
       "</table>\n",
       "</div>"
      ],
      "text/plain": [
       "                                        spending                         \n",
       "                                            mean        min           max\n",
       "customer_profile                                                         \n",
       "Adult lower income                      6.794283   1.000000     11.487500\n",
       "Adult middle income                     9.596381   2.382759   5135.893590\n",
       "Adult upper income                     40.234907   7.002308  15006.940000\n",
       "Parent/Guardian lower income            6.780940   1.000000     12.000000\n",
       "Parent/Guardian middle income           9.362381   1.522222   5271.136842\n",
       "Parent/Guardian upper income           43.883209   7.000000   6983.593023\n",
       "Senior Parent/Guardian lower income     6.507172   1.262500      7.000000\n",
       "Senior Parent/Guardian middle income    9.241409   1.300000   2410.696774\n",
       "Senior Parent/Guardian upper income    29.854363   7.001093   7414.485185\n",
       "Senior lower income                     6.509028   1.800000      7.000000\n",
       "Senior middle income                    9.498193   1.308333  14042.512281\n",
       "Senior upper income                    30.021251   7.000575   2673.245778\n",
       "Young Adult lower income                6.968650   2.100000     13.878571\n",
       "Young Adult middle income              13.507942   7.000000   8794.882427\n",
       "Young Adult upper income              148.747705  26.759379   2990.717910\n",
       "Young Parent/Guardian lower income      7.028856   2.000000     11.783333\n",
       "Young Parent/Guardian middle income    10.565561   7.000000   5668.766038\n",
       "Young Parent/Guardian upper income    282.162977  25.849554  10209.987755"
      ]
     },
     "execution_count": 70,
     "metadata": {},
     "output_type": "execute_result"
    }
   ],
   "source": [
    "# Aggregated spending\n",
    "\n",
    "df_normal_activity.groupby('customer_profile').agg({'spending': ['mean', 'min', 'max']})"
   ]
  },
  {
   "cell_type": "code",
   "execution_count": 71,
   "id": "037bcaeb",
   "metadata": {},
   "outputs": [
    {
     "data": {
      "text/html": [
       "<div>\n",
       "<style scoped>\n",
       "    .dataframe tbody tr th:only-of-type {\n",
       "        vertical-align: middle;\n",
       "    }\n",
       "\n",
       "    .dataframe tbody tr th {\n",
       "        vertical-align: top;\n",
       "    }\n",
       "\n",
       "    .dataframe thead tr th {\n",
       "        text-align: left;\n",
       "    }\n",
       "\n",
       "    .dataframe thead tr:last-of-type th {\n",
       "        text-align: right;\n",
       "    }\n",
       "</style>\n",
       "<table border=\"1\" class=\"dataframe\">\n",
       "  <thead>\n",
       "    <tr>\n",
       "      <th></th>\n",
       "      <th colspan=\"3\" halign=\"left\">order_frequency</th>\n",
       "    </tr>\n",
       "    <tr>\n",
       "      <th></th>\n",
       "      <th>mean</th>\n",
       "      <th>min</th>\n",
       "      <th>max</th>\n",
       "    </tr>\n",
       "    <tr>\n",
       "      <th>customer_profile</th>\n",
       "      <th></th>\n",
       "      <th></th>\n",
       "      <th></th>\n",
       "    </tr>\n",
       "  </thead>\n",
       "  <tbody>\n",
       "    <tr>\n",
       "      <th>Adult lower income</th>\n",
       "      <td>24.978436</td>\n",
       "      <td>2.0</td>\n",
       "      <td>30.0</td>\n",
       "    </tr>\n",
       "    <tr>\n",
       "      <th>Adult middle income</th>\n",
       "      <td>25.190124</td>\n",
       "      <td>0.0</td>\n",
       "      <td>30.0</td>\n",
       "    </tr>\n",
       "    <tr>\n",
       "      <th>Adult upper income</th>\n",
       "      <td>25.117456</td>\n",
       "      <td>3.0</td>\n",
       "      <td>30.0</td>\n",
       "    </tr>\n",
       "    <tr>\n",
       "      <th>Parent/Guardian lower income</th>\n",
       "      <td>24.999460</td>\n",
       "      <td>0.0</td>\n",
       "      <td>30.0</td>\n",
       "    </tr>\n",
       "    <tr>\n",
       "      <th>Parent/Guardian middle income</th>\n",
       "      <td>25.330323</td>\n",
       "      <td>1.0</td>\n",
       "      <td>30.0</td>\n",
       "    </tr>\n",
       "    <tr>\n",
       "      <th>Parent/Guardian upper income</th>\n",
       "      <td>25.155221</td>\n",
       "      <td>2.0</td>\n",
       "      <td>30.0</td>\n",
       "    </tr>\n",
       "    <tr>\n",
       "      <th>Senior Parent/Guardian lower income</th>\n",
       "      <td>24.930807</td>\n",
       "      <td>1.0</td>\n",
       "      <td>30.0</td>\n",
       "    </tr>\n",
       "    <tr>\n",
       "      <th>Senior Parent/Guardian middle income</th>\n",
       "      <td>25.223473</td>\n",
       "      <td>2.0</td>\n",
       "      <td>30.0</td>\n",
       "    </tr>\n",
       "    <tr>\n",
       "      <th>Senior Parent/Guardian upper income</th>\n",
       "      <td>25.205352</td>\n",
       "      <td>2.0</td>\n",
       "      <td>30.0</td>\n",
       "    </tr>\n",
       "    <tr>\n",
       "      <th>Senior lower income</th>\n",
       "      <td>25.009907</td>\n",
       "      <td>0.0</td>\n",
       "      <td>30.0</td>\n",
       "    </tr>\n",
       "    <tr>\n",
       "      <th>Senior middle income</th>\n",
       "      <td>25.284219</td>\n",
       "      <td>1.0</td>\n",
       "      <td>30.0</td>\n",
       "    </tr>\n",
       "    <tr>\n",
       "      <th>Senior upper income</th>\n",
       "      <td>24.950960</td>\n",
       "      <td>5.0</td>\n",
       "      <td>30.0</td>\n",
       "    </tr>\n",
       "    <tr>\n",
       "      <th>Young Adult lower income</th>\n",
       "      <td>24.702533</td>\n",
       "      <td>3.0</td>\n",
       "      <td>30.0</td>\n",
       "    </tr>\n",
       "    <tr>\n",
       "      <th>Young Adult middle income</th>\n",
       "      <td>25.123507</td>\n",
       "      <td>2.0</td>\n",
       "      <td>30.0</td>\n",
       "    </tr>\n",
       "    <tr>\n",
       "      <th>Young Adult upper income</th>\n",
       "      <td>26.664770</td>\n",
       "      <td>14.0</td>\n",
       "      <td>30.0</td>\n",
       "    </tr>\n",
       "    <tr>\n",
       "      <th>Young Parent/Guardian lower income</th>\n",
       "      <td>25.227766</td>\n",
       "      <td>3.0</td>\n",
       "      <td>30.0</td>\n",
       "    </tr>\n",
       "    <tr>\n",
       "      <th>Young Parent/Guardian middle income</th>\n",
       "      <td>25.095174</td>\n",
       "      <td>2.0</td>\n",
       "      <td>30.0</td>\n",
       "    </tr>\n",
       "    <tr>\n",
       "      <th>Young Parent/Guardian upper income</th>\n",
       "      <td>25.504318</td>\n",
       "      <td>9.0</td>\n",
       "      <td>30.0</td>\n",
       "    </tr>\n",
       "  </tbody>\n",
       "</table>\n",
       "</div>"
      ],
      "text/plain": [
       "                                     order_frequency            \n",
       "                                                mean   min   max\n",
       "customer_profile                                                \n",
       "Adult lower income                         24.978436   2.0  30.0\n",
       "Adult middle income                        25.190124   0.0  30.0\n",
       "Adult upper income                         25.117456   3.0  30.0\n",
       "Parent/Guardian lower income               24.999460   0.0  30.0\n",
       "Parent/Guardian middle income              25.330323   1.0  30.0\n",
       "Parent/Guardian upper income               25.155221   2.0  30.0\n",
       "Senior Parent/Guardian lower income        24.930807   1.0  30.0\n",
       "Senior Parent/Guardian middle income       25.223473   2.0  30.0\n",
       "Senior Parent/Guardian upper income        25.205352   2.0  30.0\n",
       "Senior lower income                        25.009907   0.0  30.0\n",
       "Senior middle income                       25.284219   1.0  30.0\n",
       "Senior upper income                        24.950960   5.0  30.0\n",
       "Young Adult lower income                   24.702533   3.0  30.0\n",
       "Young Adult middle income                  25.123507   2.0  30.0\n",
       "Young Adult upper income                   26.664770  14.0  30.0\n",
       "Young Parent/Guardian lower income         25.227766   3.0  30.0\n",
       "Young Parent/Guardian middle income        25.095174   2.0  30.0\n",
       "Young Parent/Guardian upper income         25.504318   9.0  30.0"
      ]
     },
     "execution_count": 71,
     "metadata": {},
     "output_type": "execute_result"
    }
   ],
   "source": [
    "# Aggregated order frequency\n",
    "\n",
    "df_normal_activity.groupby('customer_profile').agg({'order_frequency': ['mean', 'min', 'max']})"
   ]
  },
  {
   "cell_type": "markdown",
   "id": "6238f24e",
   "metadata": {},
   "source": [
    "# Question 8 -  Comparing Regions and Departments"
   ]
  },
  {
   "cell_type": "code",
   "execution_count": 73,
   "id": "cf88a195",
   "metadata": {},
   "outputs": [],
   "source": [
    "# Create regional/departmental crosstab\n",
    "\n",
    "regional_departmental_profile = pd.crosstab(df_normal_activity['region'], df_normal_activity['goods_profile'], dropna = False )"
   ]
  },
  {
   "cell_type": "code",
   "execution_count": 74,
   "id": "bb9f06f0",
   "metadata": {},
   "outputs": [
    {
     "data": {
      "text/html": [
       "<div>\n",
       "<style scoped>\n",
       "    .dataframe tbody tr th:only-of-type {\n",
       "        vertical-align: middle;\n",
       "    }\n",
       "\n",
       "    .dataframe tbody tr th {\n",
       "        vertical-align: top;\n",
       "    }\n",
       "\n",
       "    .dataframe thead th {\n",
       "        text-align: right;\n",
       "    }\n",
       "</style>\n",
       "<table border=\"1\" class=\"dataframe\">\n",
       "  <thead>\n",
       "    <tr style=\"text-align: right;\">\n",
       "      <th>goods_profile</th>\n",
       "      <th>Alcohol</th>\n",
       "      <th>Babies</th>\n",
       "      <th>Bakery</th>\n",
       "      <th>Beverages</th>\n",
       "      <th>Breakfast</th>\n",
       "      <th>Bulk</th>\n",
       "      <th>Canned goods</th>\n",
       "      <th>Dairy eggs</th>\n",
       "      <th>Deli</th>\n",
       "      <th>Dry goods pasta</th>\n",
       "      <th>...</th>\n",
       "      <th>Household</th>\n",
       "      <th>International</th>\n",
       "      <th>Meat seafood</th>\n",
       "      <th>Missing</th>\n",
       "      <th>Other</th>\n",
       "      <th>Pantry</th>\n",
       "      <th>Personal care</th>\n",
       "      <th>Pets</th>\n",
       "      <th>Produce</th>\n",
       "      <th>Snacks</th>\n",
       "    </tr>\n",
       "    <tr>\n",
       "      <th>region</th>\n",
       "      <th></th>\n",
       "      <th></th>\n",
       "      <th></th>\n",
       "      <th></th>\n",
       "      <th></th>\n",
       "      <th></th>\n",
       "      <th></th>\n",
       "      <th></th>\n",
       "      <th></th>\n",
       "      <th></th>\n",
       "      <th></th>\n",
       "      <th></th>\n",
       "      <th></th>\n",
       "      <th></th>\n",
       "      <th></th>\n",
       "      <th></th>\n",
       "      <th></th>\n",
       "      <th></th>\n",
       "      <th></th>\n",
       "      <th></th>\n",
       "      <th></th>\n",
       "    </tr>\n",
       "  </thead>\n",
       "  <tbody>\n",
       "    <tr>\n",
       "      <th>Midwest</th>\n",
       "      <td>34043</td>\n",
       "      <td>95741</td>\n",
       "      <td>261753</td>\n",
       "      <td>598979</td>\n",
       "      <td>156155</td>\n",
       "      <td>7929</td>\n",
       "      <td>237459</td>\n",
       "      <td>1212490</td>\n",
       "      <td>234464</td>\n",
       "      <td>193463</td>\n",
       "      <td>...</td>\n",
       "      <td>166992</td>\n",
       "      <td>60666</td>\n",
       "      <td>158260</td>\n",
       "      <td>15563</td>\n",
       "      <td>7983</td>\n",
       "      <td>420334</td>\n",
       "      <td>100398</td>\n",
       "      <td>21358</td>\n",
       "      <td>2134115</td>\n",
       "      <td>645143</td>\n",
       "    </tr>\n",
       "    <tr>\n",
       "      <th>Northeast</th>\n",
       "      <td>25017</td>\n",
       "      <td>72712</td>\n",
       "      <td>199300</td>\n",
       "      <td>462929</td>\n",
       "      <td>117904</td>\n",
       "      <td>5599</td>\n",
       "      <td>176936</td>\n",
       "      <td>914616</td>\n",
       "      <td>178398</td>\n",
       "      <td>143817</td>\n",
       "      <td>...</td>\n",
       "      <td>124604</td>\n",
       "      <td>44678</td>\n",
       "      <td>118571</td>\n",
       "      <td>11512</td>\n",
       "      <td>6268</td>\n",
       "      <td>312731</td>\n",
       "      <td>74765</td>\n",
       "      <td>17734</td>\n",
       "      <td>1593004</td>\n",
       "      <td>493154</td>\n",
       "    </tr>\n",
       "    <tr>\n",
       "      <th>South</th>\n",
       "      <td>48813</td>\n",
       "      <td>139511</td>\n",
       "      <td>371620</td>\n",
       "      <td>859419</td>\n",
       "      <td>223172</td>\n",
       "      <td>11180</td>\n",
       "      <td>337458</td>\n",
       "      <td>1723016</td>\n",
       "      <td>333620</td>\n",
       "      <td>272813</td>\n",
       "      <td>...</td>\n",
       "      <td>230061</td>\n",
       "      <td>84649</td>\n",
       "      <td>224120</td>\n",
       "      <td>21787</td>\n",
       "      <td>11579</td>\n",
       "      <td>591754</td>\n",
       "      <td>142496</td>\n",
       "      <td>29909</td>\n",
       "      <td>3027476</td>\n",
       "      <td>916780</td>\n",
       "    </tr>\n",
       "    <tr>\n",
       "      <th>West</th>\n",
       "      <td>36754</td>\n",
       "      <td>102428</td>\n",
       "      <td>288155</td>\n",
       "      <td>650574</td>\n",
       "      <td>173619</td>\n",
       "      <td>8743</td>\n",
       "      <td>260221</td>\n",
       "      <td>1327060</td>\n",
       "      <td>257352</td>\n",
       "      <td>212043</td>\n",
       "      <td>...</td>\n",
       "      <td>178200</td>\n",
       "      <td>65998</td>\n",
       "      <td>173830</td>\n",
       "      <td>15906</td>\n",
       "      <td>8581</td>\n",
       "      <td>457886</td>\n",
       "      <td>106647</td>\n",
       "      <td>24059</td>\n",
       "      <td>2324678</td>\n",
       "      <td>711329</td>\n",
       "    </tr>\n",
       "  </tbody>\n",
       "</table>\n",
       "<p>4 rows × 21 columns</p>\n",
       "</div>"
      ],
      "text/plain": [
       "goods_profile  Alcohol  Babies  Bakery  Beverages  Breakfast   Bulk  \\\n",
       "region                                                                \n",
       "Midwest          34043   95741  261753     598979     156155   7929   \n",
       "Northeast        25017   72712  199300     462929     117904   5599   \n",
       "South            48813  139511  371620     859419     223172  11180   \n",
       "West             36754  102428  288155     650574     173619   8743   \n",
       "\n",
       "goods_profile  Canned goods  Dairy eggs    Deli  Dry goods pasta  ...  \\\n",
       "region                                                            ...   \n",
       "Midwest              237459     1212490  234464           193463  ...   \n",
       "Northeast            176936      914616  178398           143817  ...   \n",
       "South                337458     1723016  333620           272813  ...   \n",
       "West                 260221     1327060  257352           212043  ...   \n",
       "\n",
       "goods_profile  Household  International  Meat seafood  Missing  Other  Pantry  \\\n",
       "region                                                                          \n",
       "Midwest           166992          60666        158260    15563   7983  420334   \n",
       "Northeast         124604          44678        118571    11512   6268  312731   \n",
       "South             230061          84649        224120    21787  11579  591754   \n",
       "West              178200          65998        173830    15906   8581  457886   \n",
       "\n",
       "goods_profile  Personal care   Pets  Produce  Snacks  \n",
       "region                                                \n",
       "Midwest               100398  21358  2134115  645143  \n",
       "Northeast              74765  17734  1593004  493154  \n",
       "South                 142496  29909  3027476  916780  \n",
       "West                  106647  24059  2324678  711329  \n",
       "\n",
       "[4 rows x 21 columns]"
      ]
     },
     "execution_count": 74,
     "metadata": {},
     "output_type": "execute_result"
    }
   ],
   "source": [
    "regional_departmental_profile"
   ]
  },
  {
   "cell_type": "markdown",
   "id": "fe339dbd",
   "metadata": {},
   "source": [
    "### Additional Crosstabs"
   ]
  },
  {
   "cell_type": "code",
   "execution_count": 75,
   "id": "a06d77b7",
   "metadata": {},
   "outputs": [],
   "source": [
    "# Create income/goods crosstab\n",
    "\n",
    "income_goods_profile = pd.crosstab(df_normal_activity['goods_profile'], df_normal_activity['income_profile'], dropna = False )"
   ]
  },
  {
   "cell_type": "code",
   "execution_count": 76,
   "id": "e60e4013",
   "metadata": {},
   "outputs": [
    {
     "data": {
      "text/html": [
       "<div>\n",
       "<style scoped>\n",
       "    .dataframe tbody tr th:only-of-type {\n",
       "        vertical-align: middle;\n",
       "    }\n",
       "\n",
       "    .dataframe tbody tr th {\n",
       "        vertical-align: top;\n",
       "    }\n",
       "\n",
       "    .dataframe thead th {\n",
       "        text-align: right;\n",
       "    }\n",
       "</style>\n",
       "<table border=\"1\" class=\"dataframe\">\n",
       "  <thead>\n",
       "    <tr style=\"text-align: right;\">\n",
       "      <th>income_profile</th>\n",
       "      <th>Lower income</th>\n",
       "      <th>Middle income</th>\n",
       "      <th>Upper income</th>\n",
       "    </tr>\n",
       "    <tr>\n",
       "      <th>goods_profile</th>\n",
       "      <th></th>\n",
       "      <th></th>\n",
       "      <th></th>\n",
       "    </tr>\n",
       "  </thead>\n",
       "  <tbody>\n",
       "    <tr>\n",
       "      <th>Alcohol</th>\n",
       "      <td>19346</td>\n",
       "      <td>106810</td>\n",
       "      <td>18471</td>\n",
       "    </tr>\n",
       "    <tr>\n",
       "      <th>Babies</th>\n",
       "      <td>34026</td>\n",
       "      <td>339345</td>\n",
       "      <td>37021</td>\n",
       "    </tr>\n",
       "    <tr>\n",
       "      <th>Bakery</th>\n",
       "      <td>118157</td>\n",
       "      <td>896198</td>\n",
       "      <td>106473</td>\n",
       "    </tr>\n",
       "    <tr>\n",
       "      <th>Beverages</th>\n",
       "      <td>413096</td>\n",
       "      <td>1936487</td>\n",
       "      <td>222318</td>\n",
       "    </tr>\n",
       "    <tr>\n",
       "      <th>Breakfast</th>\n",
       "      <td>99160</td>\n",
       "      <td>514060</td>\n",
       "      <td>57630</td>\n",
       "    </tr>\n",
       "    <tr>\n",
       "      <th>Bulk</th>\n",
       "      <td>5060</td>\n",
       "      <td>25988</td>\n",
       "      <td>2403</td>\n",
       "    </tr>\n",
       "    <tr>\n",
       "      <th>Canned goods</th>\n",
       "      <td>88560</td>\n",
       "      <td>829785</td>\n",
       "      <td>93729</td>\n",
       "    </tr>\n",
       "    <tr>\n",
       "      <th>Dairy eggs</th>\n",
       "      <td>555091</td>\n",
       "      <td>4159092</td>\n",
       "      <td>462999</td>\n",
       "    </tr>\n",
       "    <tr>\n",
       "      <th>Deli</th>\n",
       "      <td>116835</td>\n",
       "      <td>798206</td>\n",
       "      <td>88793</td>\n",
       "    </tr>\n",
       "    <tr>\n",
       "      <th>Dry goods pasta</th>\n",
       "      <td>72665</td>\n",
       "      <td>674210</td>\n",
       "      <td>75261</td>\n",
       "    </tr>\n",
       "    <tr>\n",
       "      <th>Frozen</th>\n",
       "      <td>237009</td>\n",
       "      <td>1689823</td>\n",
       "      <td>194899</td>\n",
       "    </tr>\n",
       "    <tr>\n",
       "      <th>Household</th>\n",
       "      <td>94423</td>\n",
       "      <td>539021</td>\n",
       "      <td>66413</td>\n",
       "    </tr>\n",
       "    <tr>\n",
       "      <th>International</th>\n",
       "      <td>23973</td>\n",
       "      <td>208930</td>\n",
       "      <td>23088</td>\n",
       "    </tr>\n",
       "    <tr>\n",
       "      <th>Meat seafood</th>\n",
       "      <td>39506</td>\n",
       "      <td>570848</td>\n",
       "      <td>64427</td>\n",
       "    </tr>\n",
       "    <tr>\n",
       "      <th>Missing</th>\n",
       "      <td>7210</td>\n",
       "      <td>51874</td>\n",
       "      <td>5684</td>\n",
       "    </tr>\n",
       "    <tr>\n",
       "      <th>Other</th>\n",
       "      <td>4229</td>\n",
       "      <td>27010</td>\n",
       "      <td>3172</td>\n",
       "    </tr>\n",
       "    <tr>\n",
       "      <th>Pantry</th>\n",
       "      <td>183673</td>\n",
       "      <td>1435891</td>\n",
       "      <td>163141</td>\n",
       "    </tr>\n",
       "    <tr>\n",
       "      <th>Personal care</th>\n",
       "      <td>52136</td>\n",
       "      <td>334293</td>\n",
       "      <td>37877</td>\n",
       "    </tr>\n",
       "    <tr>\n",
       "      <th>Pets</th>\n",
       "      <td>9550</td>\n",
       "      <td>73971</td>\n",
       "      <td>9539</td>\n",
       "    </tr>\n",
       "    <tr>\n",
       "      <th>Produce</th>\n",
       "      <td>918925</td>\n",
       "      <td>7375928</td>\n",
       "      <td>784420</td>\n",
       "    </tr>\n",
       "    <tr>\n",
       "      <th>Snacks</th>\n",
       "      <td>599078</td>\n",
       "      <td>1953563</td>\n",
       "      <td>213765</td>\n",
       "    </tr>\n",
       "  </tbody>\n",
       "</table>\n",
       "</div>"
      ],
      "text/plain": [
       "income_profile   Lower income  Middle income  Upper income\n",
       "goods_profile                                             \n",
       "Alcohol                 19346         106810         18471\n",
       "Babies                  34026         339345         37021\n",
       "Bakery                 118157         896198        106473\n",
       "Beverages              413096        1936487        222318\n",
       "Breakfast               99160         514060         57630\n",
       "Bulk                     5060          25988          2403\n",
       "Canned goods            88560         829785         93729\n",
       "Dairy eggs             555091        4159092        462999\n",
       "Deli                   116835         798206         88793\n",
       "Dry goods pasta         72665         674210         75261\n",
       "Frozen                 237009        1689823        194899\n",
       "Household               94423         539021         66413\n",
       "International           23973         208930         23088\n",
       "Meat seafood            39506         570848         64427\n",
       "Missing                  7210          51874          5684\n",
       "Other                    4229          27010          3172\n",
       "Pantry                 183673        1435891        163141\n",
       "Personal care           52136         334293         37877\n",
       "Pets                     9550          73971          9539\n",
       "Produce                918925        7375928        784420\n",
       "Snacks                 599078        1953563        213765"
      ]
     },
     "execution_count": 76,
     "metadata": {},
     "output_type": "execute_result"
    }
   ],
   "source": [
    "income_goods_profile"
   ]
  },
  {
   "cell_type": "code",
   "execution_count": 77,
   "id": "b5a17d70",
   "metadata": {},
   "outputs": [],
   "source": [
    "# Create income/dependants crosstab\n",
    "\n",
    "income_dependants_profile = pd.crosstab(df_normal_activity['income_profile'], df_normal_activity['dependants_profile'], dropna = False )"
   ]
  },
  {
   "cell_type": "code",
   "execution_count": 78,
   "id": "1a17ea8e",
   "metadata": {},
   "outputs": [
    {
     "data": {
      "text/html": [
       "<div>\n",
       "<style scoped>\n",
       "    .dataframe tbody tr th:only-of-type {\n",
       "        vertical-align: middle;\n",
       "    }\n",
       "\n",
       "    .dataframe tbody tr th {\n",
       "        vertical-align: top;\n",
       "    }\n",
       "\n",
       "    .dataframe thead th {\n",
       "        text-align: right;\n",
       "    }\n",
       "</style>\n",
       "<table border=\"1\" class=\"dataframe\">\n",
       "  <thead>\n",
       "    <tr style=\"text-align: right;\">\n",
       "      <th>dependants_profile</th>\n",
       "      <th>Dependants</th>\n",
       "      <th>No dependants</th>\n",
       "    </tr>\n",
       "    <tr>\n",
       "      <th>income_profile</th>\n",
       "      <th></th>\n",
       "      <th></th>\n",
       "    </tr>\n",
       "  </thead>\n",
       "  <tbody>\n",
       "    <tr>\n",
       "      <th>Lower income</th>\n",
       "      <td>2763943</td>\n",
       "      <td>927765</td>\n",
       "    </tr>\n",
       "    <tr>\n",
       "      <th>Middle income</th>\n",
       "      <td>18431704</td>\n",
       "      <td>6109629</td>\n",
       "    </tr>\n",
       "    <tr>\n",
       "      <th>Upper income</th>\n",
       "      <td>2029236</td>\n",
       "      <td>702287</td>\n",
       "    </tr>\n",
       "  </tbody>\n",
       "</table>\n",
       "</div>"
      ],
      "text/plain": [
       "dependants_profile  Dependants  No dependants\n",
       "income_profile                               \n",
       "Lower income           2763943         927765\n",
       "Middle income         18431704        6109629\n",
       "Upper income           2029236         702287"
      ]
     },
     "execution_count": 78,
     "metadata": {},
     "output_type": "execute_result"
    }
   ],
   "source": [
    "income_dependants_profile"
   ]
  },
  {
   "cell_type": "code",
   "execution_count": 79,
   "id": "f6749016",
   "metadata": {},
   "outputs": [],
   "source": [
    "# Create marital status/region crosstab\n",
    "\n",
    "marital_region_profile = pd.crosstab(df_normal_activity['region'], df_normal_activity['marital_status'], dropna = False )"
   ]
  },
  {
   "cell_type": "code",
   "execution_count": 80,
   "id": "f720d38c",
   "metadata": {},
   "outputs": [
    {
     "data": {
      "text/html": [
       "<div>\n",
       "<style scoped>\n",
       "    .dataframe tbody tr th:only-of-type {\n",
       "        vertical-align: middle;\n",
       "    }\n",
       "\n",
       "    .dataframe tbody tr th {\n",
       "        vertical-align: top;\n",
       "    }\n",
       "\n",
       "    .dataframe thead th {\n",
       "        text-align: right;\n",
       "    }\n",
       "</style>\n",
       "<table border=\"1\" class=\"dataframe\">\n",
       "  <thead>\n",
       "    <tr style=\"text-align: right;\">\n",
       "      <th>marital_status</th>\n",
       "      <th>divorced/widowed</th>\n",
       "      <th>living with parents and siblings</th>\n",
       "      <th>married</th>\n",
       "      <th>single</th>\n",
       "    </tr>\n",
       "    <tr>\n",
       "      <th>region</th>\n",
       "      <th></th>\n",
       "      <th></th>\n",
       "      <th></th>\n",
       "      <th></th>\n",
       "    </tr>\n",
       "  </thead>\n",
       "  <tbody>\n",
       "    <tr>\n",
       "      <th>Midwest</th>\n",
       "      <td>617198</td>\n",
       "      <td>351435</td>\n",
       "      <td>5087262</td>\n",
       "      <td>1205618</td>\n",
       "    </tr>\n",
       "    <tr>\n",
       "      <th>Northeast</th>\n",
       "      <td>478767</td>\n",
       "      <td>256430</td>\n",
       "      <td>3853773</td>\n",
       "      <td>875715</td>\n",
       "    </tr>\n",
       "    <tr>\n",
       "      <th>South</th>\n",
       "      <td>877314</td>\n",
       "      <td>505457</td>\n",
       "      <td>7223749</td>\n",
       "      <td>1704619</td>\n",
       "    </tr>\n",
       "    <tr>\n",
       "      <th>West</th>\n",
       "      <td>671992</td>\n",
       "      <td>367850</td>\n",
       "      <td>5578927</td>\n",
       "      <td>1308458</td>\n",
       "    </tr>\n",
       "  </tbody>\n",
       "</table>\n",
       "</div>"
      ],
      "text/plain": [
       "marital_status  divorced/widowed  living with parents and siblings  married  \\\n",
       "region                                                                        \n",
       "Midwest                   617198                            351435  5087262   \n",
       "Northeast                 478767                            256430  3853773   \n",
       "South                     877314                            505457  7223749   \n",
       "West                      671992                            367850  5578927   \n",
       "\n",
       "marital_status   single  \n",
       "region                   \n",
       "Midwest         1205618  \n",
       "Northeast        875715  \n",
       "South           1704619  \n",
       "West            1308458  "
      ]
     },
     "execution_count": 80,
     "metadata": {},
     "output_type": "execute_result"
    }
   ],
   "source": [
    "marital_region_profile"
   ]
  },
  {
   "cell_type": "code",
   "execution_count": 95,
   "id": "7b13c17a",
   "metadata": {},
   "outputs": [],
   "source": [
    "# Create loyalty/spending crosstab\n",
    "\n",
    "loyalty_distribution = pd.crosstab(df['loyalty_flag'], df['spending_flag'], dropna = False)"
   ]
  },
  {
   "cell_type": "code",
   "execution_count": 96,
   "id": "b7bfa60a",
   "metadata": {},
   "outputs": [
    {
     "data": {
      "text/html": [
       "<div>\n",
       "<style scoped>\n",
       "    .dataframe tbody tr th:only-of-type {\n",
       "        vertical-align: middle;\n",
       "    }\n",
       "\n",
       "    .dataframe tbody tr th {\n",
       "        vertical-align: top;\n",
       "    }\n",
       "\n",
       "    .dataframe thead th {\n",
       "        text-align: right;\n",
       "    }\n",
       "</style>\n",
       "<table border=\"1\" class=\"dataframe\">\n",
       "  <thead>\n",
       "    <tr style=\"text-align: right;\">\n",
       "      <th>spending_flag</th>\n",
       "      <th>High spender</th>\n",
       "      <th>Low spender</th>\n",
       "    </tr>\n",
       "    <tr>\n",
       "      <th>loyalty_flag</th>\n",
       "      <th></th>\n",
       "      <th></th>\n",
       "    </tr>\n",
       "  </thead>\n",
       "  <tbody>\n",
       "    <tr>\n",
       "      <th>Loyal customer</th>\n",
       "      <td>216600</td>\n",
       "      <td>10067493</td>\n",
       "    </tr>\n",
       "    <tr>\n",
       "      <th>New customer</th>\n",
       "      <td>114831</td>\n",
       "      <td>6129159</td>\n",
       "    </tr>\n",
       "    <tr>\n",
       "      <th>Regular customer</th>\n",
       "      <td>302814</td>\n",
       "      <td>15573962</td>\n",
       "    </tr>\n",
       "  </tbody>\n",
       "</table>\n",
       "</div>"
      ],
      "text/plain": [
       "spending_flag     High spender  Low spender\n",
       "loyalty_flag                               \n",
       "Loyal customer          216600     10067493\n",
       "New customer            114831      6129159\n",
       "Regular customer        302814     15573962"
      ]
     },
     "execution_count": 96,
     "metadata": {},
     "output_type": "execute_result"
    }
   ],
   "source": [
    "loyalty_distribution"
   ]
  },
  {
   "cell_type": "code",
   "execution_count": 100,
   "id": "6ef25c03",
   "metadata": {},
   "outputs": [],
   "source": [
    "# Create age/family status crosstab\n",
    "\n",
    "age_family_status = pd.crosstab(df_normal_activity['age_profile'], df_normal_activity['marital_status'], dropna = False)"
   ]
  },
  {
   "cell_type": "code",
   "execution_count": 101,
   "id": "2af57569",
   "metadata": {},
   "outputs": [
    {
     "data": {
      "text/html": [
       "<div>\n",
       "<style scoped>\n",
       "    .dataframe tbody tr th:only-of-type {\n",
       "        vertical-align: middle;\n",
       "    }\n",
       "\n",
       "    .dataframe tbody tr th {\n",
       "        vertical-align: top;\n",
       "    }\n",
       "\n",
       "    .dataframe thead th {\n",
       "        text-align: right;\n",
       "    }\n",
       "</style>\n",
       "<table border=\"1\" class=\"dataframe\">\n",
       "  <thead>\n",
       "    <tr style=\"text-align: right;\">\n",
       "      <th>marital_status</th>\n",
       "      <th>divorced/widowed</th>\n",
       "      <th>living with parents and siblings</th>\n",
       "      <th>married</th>\n",
       "      <th>single</th>\n",
       "    </tr>\n",
       "    <tr>\n",
       "      <th>age_profile</th>\n",
       "      <th></th>\n",
       "      <th></th>\n",
       "      <th></th>\n",
       "      <th></th>\n",
       "    </tr>\n",
       "  </thead>\n",
       "  <tbody>\n",
       "    <tr>\n",
       "      <th>Adult</th>\n",
       "      <td>623313</td>\n",
       "      <td>0</td>\n",
       "      <td>14461613</td>\n",
       "      <td>4268900</td>\n",
       "    </tr>\n",
       "    <tr>\n",
       "      <th>Senior</th>\n",
       "      <td>2021958</td>\n",
       "      <td>0</td>\n",
       "      <td>6173586</td>\n",
       "      <td>0</td>\n",
       "    </tr>\n",
       "    <tr>\n",
       "      <th>Young Adult</th>\n",
       "      <td>0</td>\n",
       "      <td>1481172</td>\n",
       "      <td>1108512</td>\n",
       "      <td>825510</td>\n",
       "    </tr>\n",
       "  </tbody>\n",
       "</table>\n",
       "</div>"
      ],
      "text/plain": [
       "marital_status  divorced/widowed  living with parents and siblings   married  \\\n",
       "age_profile                                                                    \n",
       "Adult                     623313                                 0  14461613   \n",
       "Senior                   2021958                                 0   6173586   \n",
       "Young Adult                    0                           1481172   1108512   \n",
       "\n",
       "marital_status   single  \n",
       "age_profile              \n",
       "Adult           4268900  \n",
       "Senior                0  \n",
       "Young Adult      825510  "
      ]
     },
     "execution_count": 101,
     "metadata": {},
     "output_type": "execute_result"
    }
   ],
   "source": [
    "age_family_status"
   ]
  },
  {
   "cell_type": "markdown",
   "id": "4a3f0f50",
   "metadata": {},
   "source": [
    "# Question 9 - Visualizations"
   ]
  },
  {
   "cell_type": "code",
   "execution_count": 85,
   "id": "023dfbad",
   "metadata": {},
   "outputs": [
    {
     "data": {
      "text/plain": [
       "<matplotlib.legend.Legend at 0x217c4ed6430>"
      ]
     },
     "execution_count": 85,
     "metadata": {},
     "output_type": "execute_result"
    },
    {
     "data": {
      "image/png": "[encoded data removed]",
      "text/plain": [
       "<Figure size 432x288 with 1 Axes>"
      ]
     },
     "metadata": {
      "needs_background": "light"
     },
     "output_type": "display_data"
    }
   ],
   "source": [
    "# Plot stacked bar chart of region/department crosstab\n",
    "\n",
    "regional_departmental_profile = regional_departmental_profile.plot(kind = 'bar', stacked = True)\n",
    "\n",
    "# Found code to place legend outside of chart\n",
    "\n",
    "plt.legend(bbox_to_anchor=(1.05, 1), loc='upper left', borderaxespad=0)"
   ]
  },
  {
   "cell_type": "code",
   "execution_count": 86,
   "id": "d186c908",
   "metadata": {},
   "outputs": [],
   "source": [
    "# Export chart\n",
    "\n",
    "regional_departmental_profile.figure.savefig(os.path.join(path, '04. Analysis','Visualizations', 'region_department_bar.png'))"
   ]
  },
  {
   "cell_type": "code",
   "execution_count": 87,
   "id": "762e3c5e",
   "metadata": {},
   "outputs": [
    {
     "data": {
      "image/png": "[encoded data removed]",
      "text/plain": [
       "<Figure size 432x288 with 1 Axes>"
      ]
     },
     "metadata": {
      "needs_background": "light"
     },
     "output_type": "display_data"
    }
   ],
   "source": [
    "# Create income/goods bar chart\n",
    "\n",
    "income_goods_profile = income_goods_profile.plot(kind = 'bar', stacked = True)"
   ]
  },
  {
   "cell_type": "code",
   "execution_count": 88,
   "id": "041f5069",
   "metadata": {},
   "outputs": [],
   "source": [
    "# Export chart\n",
    "\n",
    "income_goods_profile.figure.savefig(os.path.join(path, '04. Analysis','Visualizations', 'income_goods_bar.png'))"
   ]
  },
  {
   "cell_type": "code",
   "execution_count": 98,
   "id": "b5203eb0",
   "metadata": {},
   "outputs": [
    {
     "data": {
      "image/png": "[encoded data removed]",
      "text/plain": [
       "<Figure size 432x288 with 1 Axes>"
      ]
     },
     "metadata": {
      "needs_background": "light"
     },
     "output_type": "display_data"
    }
   ],
   "source": [
    "# Create loyalty bar chart\n",
    "\n",
    "loyalty_distribution = loyalty_distribution.plot(kind = 'bar', stacked = True)"
   ]
  },
  {
   "cell_type": "code",
   "execution_count": 99,
   "id": "8ca814d7",
   "metadata": {},
   "outputs": [],
   "source": [
    "# Export\n",
    "\n",
    "loyalty_distribution.figure.savefig(os.path.join(path, '04. Analysis','Visualizations', 'loyalty_distribution_bar.png'))"
   ]
  },
  {
   "cell_type": "code",
   "execution_count": 103,
   "id": "7eaf0658",
   "metadata": {},
   "outputs": [
    {
     "data": {
      "image/png": "[encoded data removed]",
      "text/plain": [
       "<Figure size 432x288 with 1 Axes>"
      ]
     },
     "metadata": {
      "needs_background": "light"
     },
     "output_type": "display_data"
    }
   ],
   "source": [
    "# Create age/fam status bar chart\n",
    "\n",
    "age_family_status = age_family_status.plot(kind = 'bar', stacked = True)"
   ]
  },
  {
   "cell_type": "code",
   "execution_count": 104,
   "id": "a7ec9575",
   "metadata": {},
   "outputs": [],
   "source": [
    "# Export\n",
    "\n",
    "age_family_status.figure.savefig(os.path.join(path, '04. Analysis','Visualizations', 'age_family_staus_bar.png'))"
   ]
  },
  {
   "cell_type": "markdown",
   "id": "1e0af5d5",
   "metadata": {},
   "source": [
    "# Question 10 - Wrapping up "
   ]
  },
  {
   "cell_type": "code",
   "execution_count": 105,
   "id": "e830128c",
   "metadata": {},
   "outputs": [],
   "source": [
    "# Export new dataframe\n",
    "\n",
    "df.to_pickle(os.path.join(path, '02. Data', 'Prepared Data', 'instacart_final.pkl'))"
   ]
  },
  {
   "cell_type": "code",
   "execution_count": 106,
   "id": "bf406452",
   "metadata": {},
   "outputs": [],
   "source": [
    "# Export normal activity subset\n",
    "\n",
    "df_normal_activity.to_pickle(os.path.join(path,'02. Data','Prepared Data','normal_activity_customers.pkl'))"
   ]
  },
  {
   "cell_type": "code",
   "execution_count": null,
   "id": "c7dc9213",
   "metadata": {},
   "outputs": [],
   "source": []
  }
 ],
 "metadata": {
  "kernelspec": {
   "display_name": "Python 3 (ipykernel)",
   "language": "python",
   "name": "python3"
  },
  "language_info": {
   "codemirror_mode": {
    "name": "ipython",
    "version": 3
   },
   "file_extension": ".py",
   "mimetype": "text/x-python",
   "name": "python",
   "nbconvert_exporter": "python",
   "pygments_lexer": "ipython3",
   "version": "3.9.12"
  }
 },
 "nbformat": 4,
 "nbformat_minor": 5
}
