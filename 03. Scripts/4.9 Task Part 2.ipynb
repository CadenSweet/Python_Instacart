{
 "cells": [
  {
   "cell_type": "code",
   "execution_count": 1,
   "id": "9116ba11",
   "metadata": {},
   "outputs": [],
   "source": [
    "# Importing libraries\n",
    "\n",
    "import pandas as pd\n",
    "import numpy as np\n",
    "import os\n",
    "import matplotlib.pyplot as plt\n",
    "import seaborn as sns\n",
    "import scipy"
   ]
  },
  {
   "cell_type": "code",
   "execution_count": 2,
   "id": "be3c0c07",
   "metadata": {},
   "outputs": [],
   "source": [
    "# Creating Path\n",
    "\n",
    "path = r\"C:\\Users\\caden\\OneDrive\\Desktop\\Instacart Basket Analysis 06.22.2022\""
   ]
  },
  {
   "cell_type": "code",
   "execution_count": 3,
   "id": "ca3e56ea",
   "metadata": {},
   "outputs": [],
   "source": [
    "df = pd.read_pickle(os.path.join(path, '02. Data', 'Prepared Data', 'df_merged_final.pkl'))"
   ]
  },
  {
   "cell_type": "markdown",
   "id": "ab77ae33",
   "metadata": {},
   "source": [
    "# Question 2"
   ]
  },
  {
   "cell_type": "markdown",
   "id": "c2eefcd6",
   "metadata": {},
   "source": [
    "### Bar Chart"
   ]
  },
  {
   "cell_type": "code",
   "execution_count": 4,
   "id": "1808feb4",
   "metadata": {},
   "outputs": [
    {
     "data": {
      "text/plain": [
       "<AxesSubplot:>"
      ]
     },
     "execution_count": 4,
     "metadata": {},
     "output_type": "execute_result"
    },
    {
     "data": {
      "image/png": "[encoded data removed]",
      "text/plain": [
       "<Figure size 432x288 with 1 Axes>"
      ]
     },
     "metadata": {
      "needs_background": "light"
     },
     "output_type": "display_data"
    }
   ],
   "source": [
    "df['order_day_of_week'].value_counts().plot.bar()"
   ]
  },
  {
   "cell_type": "code",
   "execution_count": 5,
   "id": "49752bc8",
   "metadata": {},
   "outputs": [
    {
     "data": {
      "image/png": "[encoded data removed]",
      "text/plain": [
       "<Figure size 432x288 with 1 Axes>"
      ]
     },
     "metadata": {
      "needs_background": "light"
     },
     "output_type": "display_data"
    }
   ],
   "source": [
    "bar = df['order_day_of_week'].value_counts().plot.bar(color =['red', 'orange', 'yellow', 'green', 'blue', 'indigo', 'violet'])"
   ]
  },
  {
   "cell_type": "markdown",
   "id": "d0156e02",
   "metadata": {},
   "source": [
    "### Scatterplot"
   ]
  },
  {
   "cell_type": "code",
   "execution_count": 6,
   "id": "16964e93",
   "metadata": {},
   "outputs": [
    {
     "data": {
      "text/plain": [
       "99999.0"
      ]
     },
     "execution_count": 6,
     "metadata": {},
     "output_type": "execute_result"
    }
   ],
   "source": [
    "df['prices'].max()"
   ]
  },
  {
   "cell_type": "code",
   "execution_count": 7,
   "id": "79b4292c",
   "metadata": {},
   "outputs": [
    {
     "data": {
      "text/plain": [
       "<AxesSubplot:xlabel='prices', ylabel='prices'>"
      ]
     },
     "execution_count": 7,
     "metadata": {},
     "output_type": "execute_result"
    },
    {
     "data": {
      "image/png": "[encoded data removed]",
      "text/plain": [
       "<Figure size 432x288 with 1 Axes>"
      ]
     },
     "metadata": {
      "needs_background": "light"
     },
     "output_type": "display_data"
    }
   ],
   "source": [
    "# Using a scatterplot to analize outlier\n",
    "\n",
    "sns.scatterplot(x = 'prices', y = 'prices',data = df)"
   ]
  },
  {
   "cell_type": "code",
   "execution_count": 34,
   "id": "7494c82e",
   "metadata": {},
   "outputs": [
    {
     "data": {
      "image/png": "[encoded data removed]",
      "text/plain": [
       "<Figure size 432x288 with 1 Axes>"
      ]
     },
     "metadata": {
      "needs_background": "light"
     },
     "output_type": "display_data"
    }
   ],
   "source": [
    "scatterplot = sns.scatterplot(x = 'prices', y = 'prices',data = df)"
   ]
  },
  {
   "cell_type": "code",
   "execution_count": 8,
   "id": "e0552c78",
   "metadata": {},
   "outputs": [
    {
     "data": {
      "text/html": [
       "<div>\n",
       "<style scoped>\n",
       "    .dataframe tbody tr th:only-of-type {\n",
       "        vertical-align: middle;\n",
       "    }\n",
       "\n",
       "    .dataframe tbody tr th {\n",
       "        vertical-align: top;\n",
       "    }\n",
       "\n",
       "    .dataframe thead th {\n",
       "        text-align: right;\n",
       "    }\n",
       "</style>\n",
       "<table border=\"1\" class=\"dataframe\">\n",
       "  <thead>\n",
       "    <tr style=\"text-align: right;\">\n",
       "      <th></th>\n",
       "      <th>order_id</th>\n",
       "      <th>user_id</th>\n",
       "      <th>eval_set</th>\n",
       "      <th>order_number</th>\n",
       "      <th>order_day_of_week</th>\n",
       "      <th>order_hour_of_day</th>\n",
       "      <th>days_since_prior_order</th>\n",
       "      <th>product_id</th>\n",
       "      <th>add_to_cart_order</th>\n",
       "      <th>reordered</th>\n",
       "      <th>...</th>\n",
       "      <th>order_frequency_flag</th>\n",
       "      <th>first_name</th>\n",
       "      <th>last_name</th>\n",
       "      <th>gender</th>\n",
       "      <th>state</th>\n",
       "      <th>age</th>\n",
       "      <th>date_joined</th>\n",
       "      <th>number_of_dependants</th>\n",
       "      <th>marital_status</th>\n",
       "      <th>income</th>\n",
       "    </tr>\n",
       "  </thead>\n",
       "  <tbody>\n",
       "    <tr>\n",
       "      <th>7805</th>\n",
       "      <td>1435153</td>\n",
       "      <td>1519</td>\n",
       "      <td>prior</td>\n",
       "      <td>26</td>\n",
       "      <td>2</td>\n",
       "      <td>11</td>\n",
       "      <td>6.0</td>\n",
       "      <td>21553</td>\n",
       "      <td>15</td>\n",
       "      <td>0</td>\n",
       "      <td>...</td>\n",
       "      <td>Non-frequent customer</td>\n",
       "      <td>Craig</td>\n",
       "      <td>Clark</td>\n",
       "      <td>Male</td>\n",
       "      <td>Rhode Island</td>\n",
       "      <td>68</td>\n",
       "      <td>3/4/2020</td>\n",
       "      <td>0</td>\n",
       "      <td>divorced/widowed</td>\n",
       "      <td>177864</td>\n",
       "    </tr>\n",
       "    <tr>\n",
       "      <th>7806</th>\n",
       "      <td>1066435</td>\n",
       "      <td>1519</td>\n",
       "      <td>prior</td>\n",
       "      <td>32</td>\n",
       "      <td>3</td>\n",
       "      <td>10</td>\n",
       "      <td>5.0</td>\n",
       "      <td>21553</td>\n",
       "      <td>28</td>\n",
       "      <td>1</td>\n",
       "      <td>...</td>\n",
       "      <td>Non-frequent customer</td>\n",
       "      <td>Craig</td>\n",
       "      <td>Clark</td>\n",
       "      <td>Male</td>\n",
       "      <td>Rhode Island</td>\n",
       "      <td>68</td>\n",
       "      <td>3/4/2020</td>\n",
       "      <td>0</td>\n",
       "      <td>divorced/widowed</td>\n",
       "      <td>177864</td>\n",
       "    </tr>\n",
       "    <tr>\n",
       "      <th>15143</th>\n",
       "      <td>1697208</td>\n",
       "      <td>2409</td>\n",
       "      <td>prior</td>\n",
       "      <td>33</td>\n",
       "      <td>1</td>\n",
       "      <td>19</td>\n",
       "      <td>5.0</td>\n",
       "      <td>21553</td>\n",
       "      <td>1</td>\n",
       "      <td>0</td>\n",
       "      <td>...</td>\n",
       "      <td>Non-frequent customer</td>\n",
       "      <td>Nicole</td>\n",
       "      <td>Odonnell</td>\n",
       "      <td>Female</td>\n",
       "      <td>Hawaii</td>\n",
       "      <td>55</td>\n",
       "      <td>11/11/2018</td>\n",
       "      <td>2</td>\n",
       "      <td>married</td>\n",
       "      <td>230074</td>\n",
       "    </tr>\n",
       "    <tr>\n",
       "      <th>20264</th>\n",
       "      <td>965345</td>\n",
       "      <td>3531</td>\n",
       "      <td>prior</td>\n",
       "      <td>27</td>\n",
       "      <td>2</td>\n",
       "      <td>19</td>\n",
       "      <td>8.0</td>\n",
       "      <td>33664</td>\n",
       "      <td>2</td>\n",
       "      <td>0</td>\n",
       "      <td>...</td>\n",
       "      <td>Non-frequent customer</td>\n",
       "      <td>Alice</td>\n",
       "      <td>Compton</td>\n",
       "      <td>Female</td>\n",
       "      <td>Hawaii</td>\n",
       "      <td>80</td>\n",
       "      <td>10/6/2019</td>\n",
       "      <td>2</td>\n",
       "      <td>married</td>\n",
       "      <td>233776</td>\n",
       "    </tr>\n",
       "    <tr>\n",
       "      <th>20497</th>\n",
       "      <td>2943740</td>\n",
       "      <td>3793</td>\n",
       "      <td>prior</td>\n",
       "      <td>1</td>\n",
       "      <td>2</td>\n",
       "      <td>9</td>\n",
       "      <td>NaN</td>\n",
       "      <td>21553</td>\n",
       "      <td>3</td>\n",
       "      <td>0</td>\n",
       "      <td>...</td>\n",
       "      <td>Non-frequent customer</td>\n",
       "      <td>Jerry</td>\n",
       "      <td>Allen</td>\n",
       "      <td>Male</td>\n",
       "      <td>Louisiana</td>\n",
       "      <td>59</td>\n",
       "      <td>8/23/2019</td>\n",
       "      <td>3</td>\n",
       "      <td>married</td>\n",
       "      <td>182933</td>\n",
       "    </tr>\n",
       "    <tr>\n",
       "      <th>...</th>\n",
       "      <td>...</td>\n",
       "      <td>...</td>\n",
       "      <td>...</td>\n",
       "      <td>...</td>\n",
       "      <td>...</td>\n",
       "      <td>...</td>\n",
       "      <td>...</td>\n",
       "      <td>...</td>\n",
       "      <td>...</td>\n",
       "      <td>...</td>\n",
       "      <td>...</td>\n",
       "      <td>...</td>\n",
       "      <td>...</td>\n",
       "      <td>...</td>\n",
       "      <td>...</td>\n",
       "      <td>...</td>\n",
       "      <td>...</td>\n",
       "      <td>...</td>\n",
       "      <td>...</td>\n",
       "      <td>...</td>\n",
       "      <td>...</td>\n",
       "    </tr>\n",
       "    <tr>\n",
       "      <th>32303799</th>\n",
       "      <td>3265389</td>\n",
       "      <td>51346</td>\n",
       "      <td>prior</td>\n",
       "      <td>4</td>\n",
       "      <td>1</td>\n",
       "      <td>17</td>\n",
       "      <td>13.0</td>\n",
       "      <td>33664</td>\n",
       "      <td>2</td>\n",
       "      <td>1</td>\n",
       "      <td>...</td>\n",
       "      <td>Regular customer</td>\n",
       "      <td>nan</td>\n",
       "      <td>Gould</td>\n",
       "      <td>Male</td>\n",
       "      <td>Rhode Island</td>\n",
       "      <td>58</td>\n",
       "      <td>1/25/2019</td>\n",
       "      <td>1</td>\n",
       "      <td>married</td>\n",
       "      <td>207497</td>\n",
       "    </tr>\n",
       "    <tr>\n",
       "      <th>32307882</th>\n",
       "      <td>1179092</td>\n",
       "      <td>131671</td>\n",
       "      <td>prior</td>\n",
       "      <td>12</td>\n",
       "      <td>4</td>\n",
       "      <td>9</td>\n",
       "      <td>15.0</td>\n",
       "      <td>33664</td>\n",
       "      <td>1</td>\n",
       "      <td>0</td>\n",
       "      <td>...</td>\n",
       "      <td>Non-frequent customer</td>\n",
       "      <td>Diana</td>\n",
       "      <td>Hansen</td>\n",
       "      <td>Female</td>\n",
       "      <td>Rhode Island</td>\n",
       "      <td>35</td>\n",
       "      <td>8/4/2018</td>\n",
       "      <td>0</td>\n",
       "      <td>single</td>\n",
       "      <td>86490</td>\n",
       "    </tr>\n",
       "    <tr>\n",
       "      <th>32310810</th>\n",
       "      <td>1226705</td>\n",
       "      <td>39667</td>\n",
       "      <td>prior</td>\n",
       "      <td>7</td>\n",
       "      <td>2</td>\n",
       "      <td>15</td>\n",
       "      <td>20.0</td>\n",
       "      <td>33664</td>\n",
       "      <td>14</td>\n",
       "      <td>0</td>\n",
       "      <td>...</td>\n",
       "      <td>Non-frequent customer</td>\n",
       "      <td>Johnny</td>\n",
       "      <td>Colon</td>\n",
       "      <td>Male</td>\n",
       "      <td>Rhode Island</td>\n",
       "      <td>78</td>\n",
       "      <td>5/8/2019</td>\n",
       "      <td>2</td>\n",
       "      <td>married</td>\n",
       "      <td>195077</td>\n",
       "    </tr>\n",
       "    <tr>\n",
       "      <th>32330048</th>\n",
       "      <td>3000037</td>\n",
       "      <td>95105</td>\n",
       "      <td>prior</td>\n",
       "      <td>2</td>\n",
       "      <td>4</td>\n",
       "      <td>19</td>\n",
       "      <td>22.0</td>\n",
       "      <td>33664</td>\n",
       "      <td>4</td>\n",
       "      <td>0</td>\n",
       "      <td>...</td>\n",
       "      <td>Non-frequent customer</td>\n",
       "      <td>Catherine</td>\n",
       "      <td>Browning</td>\n",
       "      <td>Female</td>\n",
       "      <td>South Carolina</td>\n",
       "      <td>48</td>\n",
       "      <td>1/18/2017</td>\n",
       "      <td>2</td>\n",
       "      <td>married</td>\n",
       "      <td>398880</td>\n",
       "    </tr>\n",
       "    <tr>\n",
       "      <th>32330049</th>\n",
       "      <td>2741225</td>\n",
       "      <td>95105</td>\n",
       "      <td>prior</td>\n",
       "      <td>4</td>\n",
       "      <td>5</td>\n",
       "      <td>12</td>\n",
       "      <td>2.0</td>\n",
       "      <td>33664</td>\n",
       "      <td>3</td>\n",
       "      <td>1</td>\n",
       "      <td>...</td>\n",
       "      <td>Non-frequent customer</td>\n",
       "      <td>Catherine</td>\n",
       "      <td>Browning</td>\n",
       "      <td>Female</td>\n",
       "      <td>South Carolina</td>\n",
       "      <td>48</td>\n",
       "      <td>1/18/2017</td>\n",
       "      <td>2</td>\n",
       "      <td>married</td>\n",
       "      <td>398880</td>\n",
       "    </tr>\n",
       "  </tbody>\n",
       "</table>\n",
       "<p>5127 rows × 33 columns</p>\n",
       "</div>"
      ],
      "text/plain": [
       "          order_id  user_id eval_set  order_number  order_day_of_week  \\\n",
       "7805       1435153     1519    prior            26                  2   \n",
       "7806       1066435     1519    prior            32                  3   \n",
       "15143      1697208     2409    prior            33                  1   \n",
       "20264       965345     3531    prior            27                  2   \n",
       "20497      2943740     3793    prior             1                  2   \n",
       "...            ...      ...      ...           ...                ...   \n",
       "32303799   3265389    51346    prior             4                  1   \n",
       "32307882   1179092   131671    prior            12                  4   \n",
       "32310810   1226705    39667    prior             7                  2   \n",
       "32330048   3000037    95105    prior             2                  4   \n",
       "32330049   2741225    95105    prior             4                  5   \n",
       "\n",
       "          order_hour_of_day  days_since_prior_order  product_id  \\\n",
       "7805                     11                     6.0       21553   \n",
       "7806                     10                     5.0       21553   \n",
       "15143                    19                     5.0       21553   \n",
       "20264                    19                     8.0       33664   \n",
       "20497                     9                     NaN       21553   \n",
       "...                     ...                     ...         ...   \n",
       "32303799                 17                    13.0       33664   \n",
       "32307882                  9                    15.0       33664   \n",
       "32310810                 15                    20.0       33664   \n",
       "32330048                 19                    22.0       33664   \n",
       "32330049                 12                     2.0       33664   \n",
       "\n",
       "          add_to_cart_order  reordered  ...   order_frequency_flag  \\\n",
       "7805                     15          0  ...  Non-frequent customer   \n",
       "7806                     28          1  ...  Non-frequent customer   \n",
       "15143                     1          0  ...  Non-frequent customer   \n",
       "20264                     2          0  ...  Non-frequent customer   \n",
       "20497                     3          0  ...  Non-frequent customer   \n",
       "...                     ...        ...  ...                    ...   \n",
       "32303799                  2          1  ...       Regular customer   \n",
       "32307882                  1          0  ...  Non-frequent customer   \n",
       "32310810                 14          0  ...  Non-frequent customer   \n",
       "32330048                  4          0  ...  Non-frequent customer   \n",
       "32330049                  3          1  ...  Non-frequent customer   \n",
       "\n",
       "          first_name  last_name  gender           state age date_joined  \\\n",
       "7805           Craig      Clark    Male    Rhode Island  68    3/4/2020   \n",
       "7806           Craig      Clark    Male    Rhode Island  68    3/4/2020   \n",
       "15143         Nicole   Odonnell  Female          Hawaii  55  11/11/2018   \n",
       "20264          Alice    Compton  Female          Hawaii  80   10/6/2019   \n",
       "20497          Jerry      Allen    Male       Louisiana  59   8/23/2019   \n",
       "...              ...        ...     ...             ...  ..         ...   \n",
       "32303799         nan      Gould    Male    Rhode Island  58   1/25/2019   \n",
       "32307882       Diana     Hansen  Female    Rhode Island  35    8/4/2018   \n",
       "32310810      Johnny      Colon    Male    Rhode Island  78    5/8/2019   \n",
       "32330048   Catherine   Browning  Female  South Carolina  48   1/18/2017   \n",
       "32330049   Catherine   Browning  Female  South Carolina  48   1/18/2017   \n",
       "\n",
       "         number_of_dependants    marital_status  income  \n",
       "7805                        0  divorced/widowed  177864  \n",
       "7806                        0  divorced/widowed  177864  \n",
       "15143                       2           married  230074  \n",
       "20264                       2           married  233776  \n",
       "20497                       3           married  182933  \n",
       "...                       ...               ...     ...  \n",
       "32303799                    1           married  207497  \n",
       "32307882                    0            single   86490  \n",
       "32310810                    2           married  195077  \n",
       "32330048                    2           married  398880  \n",
       "32330049                    2           married  398880  \n",
       "\n",
       "[5127 rows x 33 columns]"
      ]
     },
     "execution_count": 8,
     "metadata": {},
     "output_type": "execute_result"
    }
   ],
   "source": [
    "# Checking for prices with a value higher than $100\n",
    "\n",
    "df.loc[df['prices'] > 100]"
   ]
  },
  {
   "cell_type": "code",
   "execution_count": 9,
   "id": "fa802108",
   "metadata": {},
   "outputs": [],
   "source": [
    "# Assigning entries with a value higher than 100 values of nan\n",
    "\n",
    "df.loc[df['prices'] >100, 'prices'] = np.nan"
   ]
  },
  {
   "cell_type": "code",
   "execution_count": 10,
   "id": "dae64da6",
   "metadata": {},
   "outputs": [
    {
     "data": {
      "text/plain": [
       "25.0"
      ]
     },
     "execution_count": 10,
     "metadata": {},
     "output_type": "execute_result"
    }
   ],
   "source": [
    "df['prices'].max()"
   ]
  },
  {
   "cell_type": "markdown",
   "id": "4056ebd8",
   "metadata": {},
   "source": [
    "### Histogram"
   ]
  },
  {
   "cell_type": "code",
   "execution_count": 11,
   "id": "03ee45ba",
   "metadata": {},
   "outputs": [
    {
     "data": {
      "image/png": "[encoded data removed]",
      "text/plain": [
       "<Figure size 432x288 with 1 Axes>"
      ]
     },
     "metadata": {
      "needs_background": "light"
     },
     "output_type": "display_data"
    }
   ],
   "source": [
    "hist = df['prices'].plot.hist(bins = 50)"
   ]
  },
  {
   "cell_type": "markdown",
   "id": "9bc09669",
   "metadata": {},
   "source": [
    "### Creating sample subset for line chart"
   ]
  },
  {
   "cell_type": "code",
   "execution_count": 12,
   "id": "4eb01d57",
   "metadata": {},
   "outputs": [],
   "source": [
    "np.random.seed(4)"
   ]
  },
  {
   "cell_type": "code",
   "execution_count": 13,
   "id": "2a21ed69",
   "metadata": {},
   "outputs": [],
   "source": [
    "# Create a list holding True/False values to the test\n",
    "\n",
    "dev = np.random.rand(len(df)) <= 0.7"
   ]
  },
  {
   "cell_type": "code",
   "execution_count": 14,
   "id": "b98b2be9",
   "metadata": {},
   "outputs": [],
   "source": [
    "# Store 70% of the sample in the dataframe big\n",
    "\n",
    "big = df[dev]"
   ]
  },
  {
   "cell_type": "code",
   "execution_count": 15,
   "id": "0acc6a73",
   "metadata": {},
   "outputs": [],
   "source": [
    "# Store 30% of the sample in the dataframe small\n",
    "\n",
    "small = df[~dev]"
   ]
  },
  {
   "cell_type": "code",
   "execution_count": 16,
   "id": "4f254384",
   "metadata": {},
   "outputs": [
    {
     "data": {
      "text/plain": [
       "32404859"
      ]
     },
     "execution_count": 16,
     "metadata": {},
     "output_type": "execute_result"
    }
   ],
   "source": [
    "len(df)"
   ]
  },
  {
   "cell_type": "code",
   "execution_count": 17,
   "id": "7155c597",
   "metadata": {},
   "outputs": [
    {
     "data": {
      "text/plain": [
       "32404859"
      ]
     },
     "execution_count": 17,
     "metadata": {},
     "output_type": "execute_result"
    }
   ],
   "source": [
    "# Check\n",
    "\n",
    "len(big) + len(small)"
   ]
  },
  {
   "cell_type": "code",
   "execution_count": 18,
   "id": "7f38a8cf",
   "metadata": {},
   "outputs": [],
   "source": [
    "df_2 = small[['order_day_of_week','prices']]"
   ]
  },
  {
   "cell_type": "markdown",
   "id": "4bd36f29",
   "metadata": {},
   "source": [
    "### Line Chart"
   ]
  },
  {
   "cell_type": "code",
   "execution_count": 19,
   "id": "96bb7467",
   "metadata": {},
   "outputs": [
    {
     "data": {
      "image/png": "[encoded data removed]",
      "text/plain": [
       "<Figure size 432x288 with 1 Axes>"
      ]
     },
     "metadata": {
      "needs_background": "light"
     },
     "output_type": "display_data"
    }
   ],
   "source": [
    "line = sns.lineplot(data = df_2, x = 'order_day_of_week',y = 'prices')"
   ]
  },
  {
   "cell_type": "markdown",
   "id": "15984f4f",
   "metadata": {},
   "source": [
    "# Question 3"
   ]
  },
  {
   "cell_type": "code",
   "execution_count": 20,
   "id": "d24beb73",
   "metadata": {},
   "outputs": [
    {
     "data": {
      "image/png": "[encoded data removed]",
      "text/plain": [
       "<Figure size 432x288 with 1 Axes>"
      ]
     },
     "metadata": {
      "needs_background": "light"
     },
     "output_type": "display_data"
    }
   ],
   "source": [
    "hist_hour = df['order_hour_of_day'].plot.hist(bins = 24)"
   ]
  },
  {
   "cell_type": "markdown",
   "id": "b3fd0bce",
   "metadata": {},
   "source": [
    "### The histogram demonstrates when orders are being placed throughout the day and the frequency of orders being placed."
   ]
  },
  {
   "cell_type": "markdown",
   "id": "f077dd8f",
   "metadata": {},
   "source": [
    "# Question 4"
   ]
  },
  {
   "cell_type": "code",
   "execution_count": 21,
   "id": "f38da137",
   "metadata": {},
   "outputs": [
    {
     "data": {
      "image/png": "[encoded data removed]",
      "text/plain": [
       "<Figure size 432x288 with 1 Axes>"
      ]
     },
     "metadata": {
      "needs_background": "light"
     },
     "output_type": "display_data"
    }
   ],
   "source": [
    "loyalty_bar = df['loyalty_flag'].value_counts().plot.bar(color =['red', 'yellow', 'blue'])"
   ]
  },
  {
   "cell_type": "markdown",
   "id": "ed56d79a",
   "metadata": {},
   "source": [
    "# Question 5"
   ]
  },
  {
   "cell_type": "code",
   "execution_count": 23,
   "id": "9c2f8a74",
   "metadata": {},
   "outputs": [],
   "source": [
    "# Using sample data from earlier\n",
    "\n",
    "df_prices_line = small[['order_hour_of_day', 'prices']]"
   ]
  },
  {
   "cell_type": "code",
   "execution_count": 24,
   "id": "7c0feb77",
   "metadata": {},
   "outputs": [
    {
     "data": {
      "image/png": "[encoded data removed]",
      "text/plain": [
       "<Figure size 432x288 with 1 Axes>"
      ]
     },
     "metadata": {
      "needs_background": "light"
     },
     "output_type": "display_data"
    }
   ],
   "source": [
    "prices_line = sns.lineplot(data = df_prices_line, x = 'order_hour_of_day',y = 'prices')"
   ]
  },
  {
   "cell_type": "markdown",
   "id": "31b44cbc",
   "metadata": {},
   "source": [
    "# Question 6"
   ]
  },
  {
   "cell_type": "code",
   "execution_count": 25,
   "id": "f495eac7",
   "metadata": {},
   "outputs": [],
   "source": [
    "# Using sample data from earlier\n",
    "\n",
    "df_cust_demo = small[['age', 'number_of_dependants']]"
   ]
  },
  {
   "cell_type": "code",
   "execution_count": 27,
   "id": "1a283beb",
   "metadata": {},
   "outputs": [
    {
     "data": {
      "image/png": "[encoded data removed]",
      "text/plain": [
       "<Figure size 432x288 with 1 Axes>"
      ]
     },
     "metadata": {
      "needs_background": "light"
     },
     "output_type": "display_data"
    }
   ],
   "source": [
    "customer_demographics_line = sns.lineplot(data = df_cust_demo, x = 'number_of_dependants',y = 'age')"
   ]
  },
  {
   "cell_type": "markdown",
   "id": "37ff6559",
   "metadata": {},
   "source": [
    "### The line chart shows the relationship between the number of dependants and the age of instacart users. Younger customers have fewer dependants than older customers."
   ]
  },
  {
   "cell_type": "markdown",
   "id": "98a638b5",
   "metadata": {},
   "source": [
    "# Question 7"
   ]
  },
  {
   "cell_type": "code",
   "execution_count": 29,
   "id": "a0ffbd06",
   "metadata": {},
   "outputs": [],
   "source": [
    "# Using sample data from before\n",
    "\n",
    "df_income_age = small [['income', 'age']]"
   ]
  },
  {
   "cell_type": "code",
   "execution_count": 30,
   "id": "4846d06b",
   "metadata": {},
   "outputs": [
    {
     "data": {
      "image/png": "[encoded data removed]",
      "text/plain": [
       "<Figure size 432x288 with 1 Axes>"
      ]
     },
     "metadata": {
      "needs_background": "light"
     },
     "output_type": "display_data"
    }
   ],
   "source": [
    "plot_spending = sns.scatterplot(x = 'age', y = 'income', data = df_income_age)"
   ]
  },
  {
   "cell_type": "markdown",
   "id": "ebf1f526",
   "metadata": {},
   "source": [
    "### The plot shows the relationship between age and income and as we can see, individuals who are older have more income."
   ]
  },
  {
   "cell_type": "markdown",
   "id": "98fa1ea8",
   "metadata": {},
   "source": [
    "# Question 8"
   ]
  },
  {
   "cell_type": "code",
   "execution_count": 32,
   "id": "59ca35e4",
   "metadata": {},
   "outputs": [],
   "source": [
    "# Exporting Bar visual\n",
    "\n",
    "bar.figure.savefig(os.path.join(path, '04. Analysis','Visualizations', 'bar_orders_dow_final.png'))"
   ]
  },
  {
   "cell_type": "code",
   "execution_count": 33,
   "id": "279696f9",
   "metadata": {},
   "outputs": [],
   "source": [
    "# Exporting Histogram \n",
    "\n",
    "hist.figure.savefig(os.path.join(path, '04. Analysis','Visualizations', 'hist_final.png'))"
   ]
  },
  {
   "cell_type": "code",
   "execution_count": 35,
   "id": "ddaaff4e",
   "metadata": {},
   "outputs": [],
   "source": [
    "# Exporting Scatterplot\n",
    "\n",
    "scatterplot.figure.savefig(os.path.join(path, '04. Analysis','Visualizations', 'scatterplot_final.png'))"
   ]
  },
  {
   "cell_type": "code",
   "execution_count": 36,
   "id": "c9d66f61",
   "metadata": {},
   "outputs": [],
   "source": [
    "# Exporting Line\n",
    "\n",
    "line.figure.savefig(os.path.join(path, '04. Analysis','Visualizations', 'line_final.png'))"
   ]
  },
  {
   "cell_type": "code",
   "execution_count": 37,
   "id": "b652fc86",
   "metadata": {},
   "outputs": [],
   "source": [
    "# Exporting hist_hour\n",
    "\n",
    "hist_hour.figure.savefig(os.path.join(path, '04. Analysis','Visualizations', 'hist_hour_final.png'))"
   ]
  },
  {
   "cell_type": "code",
   "execution_count": 38,
   "id": "59402749",
   "metadata": {},
   "outputs": [],
   "source": [
    "# Exporting loyalty_bar\n",
    "\n",
    "loyalty_bar.figure.savefig(os.path.join(path, '04. Analysis','Visualizations', 'loyalty_bar_orders_dow_final.png'))"
   ]
  },
  {
   "cell_type": "code",
   "execution_count": 39,
   "id": "a3c01fee",
   "metadata": {},
   "outputs": [],
   "source": [
    "# Exporting prices_line\n",
    "\n",
    "prices_line.figure.savefig(os.path.join(path, '04. Analysis','Visualizations', 'prices_line_final.png'))"
   ]
  },
  {
   "cell_type": "code",
   "execution_count": 40,
   "id": "9eff0d8b",
   "metadata": {},
   "outputs": [],
   "source": [
    "# Exporting customer_demo_line\n",
    "\n",
    "customer_demographics_line.figure.savefig(os.path.join(path, '04. Analysis','Visualizations', 'line_final.png'))"
   ]
  },
  {
   "cell_type": "code",
   "execution_count": 41,
   "id": "f2154420",
   "metadata": {},
   "outputs": [],
   "source": [
    "# Exporting plot_spending\n",
    "\n",
    "plot_spending.figure.savefig(os.path.join(path, '04. Analysis','Visualizations', 'plot_spending_final.png'))"
   ]
  },
  {
   "cell_type": "markdown",
   "id": "0cc6cb72",
   "metadata": {},
   "source": [
    "# End"
   ]
  },
  {
   "cell_type": "code",
   "execution_count": null,
   "id": "b1175e61",
   "metadata": {},
   "outputs": [],
   "source": []
  }
 ],
 "metadata": {
  "kernelspec": {
   "display_name": "Python 3 (ipykernel)",
   "language": "python",
   "name": "python3"
  },
  "language_info": {
   "codemirror_mode": {
    "name": "ipython",
    "version": 3
   },
   "file_extension": ".py",
   "mimetype": "text/x-python",
   "name": "python",
   "nbconvert_exporter": "python",
   "pygments_lexer": "ipython3",
   "version": "3.9.12"
  }
 },
 "nbformat": 4,
 "nbformat_minor": 5
}
